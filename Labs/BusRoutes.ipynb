{
  "nbformat": 4,
  "nbformat_minor": 0,
  "metadata": {
    "colab": {
      "provenance": [],
      "authorship_tag": "ABX9TyOKU4O4NUoJL3S+7idRqePT",
      "include_colab_link": true
    },
    "kernelspec": {
      "name": "python3",
      "display_name": "Python 3"
    },
    "language_info": {
      "name": "python"
    }
  },
  "cells": [
    {
      "cell_type": "markdown",
      "metadata": {
        "id": "view-in-github",
        "colab_type": "text"
      },
      "source": [
        "<a href=\"https://colab.research.google.com/github/charleshart0301/DSPS_cHart/blob/main/Labs/BusRoutes.ipynb\" target=\"_parent\"><img src=\"https://colab.research.google.com/assets/colab-badge.svg\" alt=\"Open In Colab\"/></a>"
      ]
    },
    {
      "cell_type": "code",
      "execution_count": 6,
      "metadata": {
        "id": "Q2pw_LFgiQs4"
      },
      "outputs": [],
      "source": [
        "import pandas as pd\n",
        "import numpy as np"
      ]
    },
    {
      "cell_type": "code",
      "source": [
        "newtrips = pd.read_csv('https://raw.githubusercontent.com/fedhere/DSPS_FBianco/refs/heads/main/data/triptimes.csv', header=None)"
      ],
      "metadata": {
        "id": "77nqt4KciW3T"
      },
      "execution_count": 23,
      "outputs": []
    },
    {
      "cell_type": "code",
      "source": [
        "print(newtrips.head())\n",
        "print(newtrips.tail())"
      ],
      "metadata": {
        "colab": {
          "base_uri": "https://localhost:8080/"
        },
        "id": "cGX005Okikgb",
        "outputId": "d5cf1c70-41fe-4573-b8d5-0875d9019a13"
      },
      "execution_count": 14,
      "outputs": [
        {
          "output_type": "stream",
          "name": "stdout",
          "text": [
            "           0\n",
            "0  31.622239\n",
            "1  32.821376\n",
            "2  30.229101\n",
            "3  31.413766\n",
            "4  39.010550\n",
            "            0\n",
            "95  26.197852\n",
            "96  42.727410\n",
            "97  33.731470\n",
            "98  37.238591\n",
            "99  36.339841\n"
          ]
        }
      ]
    },
    {
      "cell_type": "code",
      "source": [
        "print(newtrips.mean())\n",
        "ztest = (newtrips.mean() -32.33)/(newtrips.std()/np.sqrt(100))\n",
        "print(ztest)"
      ],
      "metadata": {
        "colab": {
          "base_uri": "https://localhost:8080/"
        },
        "id": "sM21Z_FeiuW0",
        "outputId": "f8e5b76a-b0cf-4826-ad11-9c82d61181ee"
      },
      "execution_count": 24,
      "outputs": [
        {
          "output_type": "stream",
          "name": "stdout",
          "text": [
            "0    34.466162\n",
            "dtype: float64\n",
            "0    2.992963\n",
            "dtype: float64\n"
          ]
        }
      ]
    },
    {
      "cell_type": "markdown",
      "source": [
        "Larger than 2 Sigma, so it does not verify the Null Hypothesis."
      ],
      "metadata": {
        "id": "OndIrTV3mXXK"
      }
    }
  ]
}