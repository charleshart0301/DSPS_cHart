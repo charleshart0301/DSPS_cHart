{
  "nbformat": 4,
  "nbformat_minor": 0,
  "metadata": {
    "kernelspec": {
      "display_name": "Python 3",
      "language": "python",
      "name": "python3"
    },
    "language_info": {
      "codemirror_mode": {
        "name": "ipython",
        "version": 3
      },
      "file_extension": ".py",
      "mimetype": "text/x-python",
      "name": "python",
      "nbconvert_exporter": "python",
      "pygments_lexer": "ipython3",
      "version": "3.6.7"
    },
    "nbTranslate": {
      "displayLangs": [
        "*"
      ],
      "hotkey": "alt-t",
      "langInMainMenu": true,
      "sourceLang": "en",
      "targetLang": "fr",
      "useGoogleTranslate": true
    },
    "toc": {
      "base_numbering": 1,
      "colors": {
        "hover_highlight": "#DAA520",
        "running_highlight": "#FF0000",
        "selected_highlight": "#FFD700"
      },
      "moveMenuLeft": true,
      "nav_menu": {},
      "navigate_menu": true,
      "number_sections": true,
      "sideBar": true,
      "skip_h1_title": false,
      "threshold": 4,
      "title_cell": "Table of Contents",
      "title_sidebar": "Contents",
      "toc_cell": false,
      "toc_position": {
        "height": "calc(100% - 180px)",
        "left": "10px",
        "top": "150px",
        "width": "165px"
      },
      "toc_section_display": true,
      "toc_window_display": true
    },
    "colab": {
      "provenance": [],
      "collapsed_sections": [
        "6me5k4c1OdDY"
      ],
      "include_colab_link": true
    }
  },
  "cells": [
    {
      "cell_type": "markdown",
      "metadata": {
        "id": "view-in-github",
        "colab_type": "text"
      },
      "source": [
        "<a href=\"https://colab.research.google.com/github/charleshart0301/DSPS_cHart/blob/main/HW4/Charles_Hart_MWrotCurve_instructions.ipynb\" target=\"_parent\"><img src=\"https://colab.research.google.com/assets/colab-badge.svg\" alt=\"Open In Colab\"/></a>"
      ]
    },
    {
      "cell_type": "markdown",
      "metadata": {
        "run_control": {
          "frozen": false,
          "read_only": false
        },
        "id": "rxa6Xa3jOdCI"
      },
      "source": [
        "prepared by federica b bianco @fedhere\n",
        "for UDel DSPS PHYS 461/661\n",
        "\n",
        "# testing the \"significance\" of Dark Matter"
      ]
    },
    {
      "cell_type": "code",
      "metadata": {
        "ExecuteTime": {
          "end_time": "2019-09-16T17:54:57.244596Z",
          "start_time": "2019-09-16T17:54:57.231090Z"
        },
        "run_control": {
          "frozen": false,
          "read_only": false
        },
        "id": "Ya2RaOGbOdCJ"
      },
      "source": [
        "...\n",
        "\n",
        "#package I will use for constants and units conversion\n",
        "import astropy\n",
        "from astropy.constants import G\n",
        "from astropy import units as u\n",
        "import pylab as pl\n",
        "import numpy as np\n",
        "\n",
        "#package used to display latex formuale\n",
        "from IPython.display import Latex\n",
        "import pandas as pd\n",
        "\n"
      ],
      "execution_count": 179,
      "outputs": []
    },
    {
      "cell_type": "markdown",
      "metadata": {
        "id": "4qp8A2TG1Gwb"
      },
      "source": [
        "In 1970 Vera Rubin published a seminal paper: she measured the rotational speed of HII regions in several galaxies and how it changed as a function of distance to the center of the galaxy. If we believe Newtonian gravity (or GR for that matter) we expect that _once all of the mass is included_, i.e. at a radius distance from the center of the galaxy larger than the radius of the galaxy itself, the rotational speed will be proportional to $v^2\\propto\\frac{1}{r}$\n",
        "\n",
        "You will use astropy in this exercise, a popular and powerfull package for astrophysical analysis in python. One of the most interesting and unique characteristics of astropy is that it allows treatment of units. When you have a quantity (say `x=3`) in python you can express it with the appropriate units (say meters) as `x=3 * u.meter`"
      ]
    },
    {
      "cell_type": "code",
      "source": [
        "#example\n",
        "x = 3\n",
        "x"
      ],
      "metadata": {
        "id": "hxiNEw-B_1IS",
        "outputId": "fc3562dd-4166-415d-d1bc-890770538cbc",
        "colab": {
          "base_uri": "https://localhost:8080/"
        }
      },
      "execution_count": 180,
      "outputs": [
        {
          "output_type": "execute_result",
          "data": {
            "text/plain": [
              "3"
            ]
          },
          "metadata": {},
          "execution_count": 180
        }
      ]
    },
    {
      "cell_type": "code",
      "source": [
        "# note : by PEP8 standards the import should be at the top, I leave it here for hyou to see that I am using astropy.units now for visibility. Please move it to the top cell\n",
        "\n",
        "x_in_m = x * u.meter\n",
        "x_in_m"
      ],
      "metadata": {
        "id": "UEyApnDPAH0s",
        "outputId": "95d51187-648f-45f7-b0d7-26fb466ecbb0",
        "colab": {
          "base_uri": "https://localhost:8080/",
          "height": 37
        }
      },
      "execution_count": 181,
      "outputs": [
        {
          "output_type": "execute_result",
          "data": {
            "text/plain": [
              "<Quantity 3. m>"
            ],
            "text/latex": "$3 \\; \\mathrm{m}$"
          },
          "metadata": {},
          "execution_count": 181
        }
      ]
    },
    {
      "cell_type": "markdown",
      "source": [
        "once the quantities have units they can be converted with astropy methods: e.g."
      ],
      "metadata": {
        "id": "Q4E5uRybAcjF"
      }
    },
    {
      "cell_type": "code",
      "source": [
        "x_in_km = x_in_m.to(u.kilometer)\n",
        "x_in_km"
      ],
      "metadata": {
        "id": "e0V9u5kRAgML",
        "outputId": "d4685f3f-1d33-4071-d027-183f1db3c1c9",
        "colab": {
          "base_uri": "https://localhost:8080/",
          "height": 37
        }
      },
      "execution_count": 182,
      "outputs": [
        {
          "output_type": "execute_result",
          "data": {
            "text/plain": [
              "<Quantity 0.003 km>"
            ],
            "text/latex": "$0.003 \\; \\mathrm{km}$"
          },
          "metadata": {},
          "execution_count": 182
        }
      ]
    },
    {
      "cell_type": "markdown",
      "metadata": {
        "run_control": {
          "frozen": false,
          "read_only": false
        },
        "id": "j-BDrNseOdCR"
      },
      "source": [
        "## Propagation of  uncertainties rules\n",
        "\n",
        "below are the basic rules for propagation of uncertainties - use [this as reference](https://github.com/fedhere/DSPS/blob/master/resources/Managing%20Errors%20and%20Uncertainty.pdf)"
      ]
    },
    {
      "cell_type": "markdown",
      "metadata": {
        "id": "4LnLCwYpPYSv"
      },
      "source": []
    },
    {
      "cell_type": "markdown",
      "metadata": {
        "id": "iCrFipBzOzqp"
      },
      "source": [
        "\n",
        "\n",
        "\n",
        "$$\n",
        "\\begin{eqnarray}\n",
        "z = x  \\pm y  ~| & ~  &dz = \\sqrt{dx^2 + dy^2}\n",
        "\\\\\n",
        "z = x * y  ~| & ~& dz = |xy|  \\sqrt{\\left(\\frac{dx}{x}\\right)^2 +\n",
        "                                \\left(\\frac{dy}{y}\\right)^2} \\\\\n",
        "z = x / y  ~| & ~& dz = \\left|\\frac{x}{y}\\right| \\sqrt{\\left(\\frac{dx}{x}\\right)^2 +\n",
        "                                                   \\left(\\frac{dy}{y}\\right)^2} \\\\\n",
        "z = x^n ~| & ~& dz = |n| ~ x^{n-1}  dx \\\\\n",
        "z = \\mathrm{c}x ~| & ~& dz = |\\mathrm{c}| ~dx \\\\\n",
        "z = f(x, y) ~| & ~& dz = \\sqrt{\\left(\\frac{\\partial f}{\\partial x}\\right)^2 dx^2 +\\left(\\frac{\\partial f}{\\partial y}\\right)^2 dy^2} \\\\\n",
        "\\end{eqnarray}\n",
        "$$\n"
      ]
    },
    {
      "cell_type": "markdown",
      "metadata": {
        "run_control": {
          "frozen": false,
          "read_only": false
        },
        "id": "WcF0zlWCOdCX"
      },
      "source": [
        "# let's assume a Newtonian framework:\n",
        "the velocity of a body in orbit depends only on the gravitational field of the mass that attracts it, and we can assume that mass is concentrated in the center of mass  (the geometric center for simplicity) of the system\n",
        "\n",
        "with G the gravitational constant, $r$ the radius, and $m(r)$ the mass contained within that radius we have the orbital velocity $v$:\n"
      ]
    },
    {
      "cell_type": "markdown",
      "metadata": {
        "id": "ZON0DKl5Qm2S"
      },
      "source": [
        "\n",
        "$v^2 = \\frac{G \\cdot m(r)}{r}$\n"
      ]
    },
    {
      "cell_type": "markdown",
      "metadata": {
        "id": "lVfy9lJ21xMT"
      },
      "source": [
        "Assignment: Derive this $v^2 \\propto\\frac{1}{r}$ at different distances from the center of the Galaxy for M31 and the Milky Way from Newron's law $F~=~\\frac{GMm}{r^2}$.\n",
        "\n",
        "Write each formula you use and describe each step in text cells within this notebook.\n",
        "\n",
        "You can use latex to write the formulate(you really just need to know ```\\frac{}``` for the fractions and ```^``` for the powers) and this reference\n",
        "https://www.physicsclassroom.com/calcpad/circgrav"
      ]
    },
    {
      "cell_type": "markdown",
      "source": [
        "$$ F = \\frac{GMm}{r^2}$$\n",
        "\n",
        "$$m*a = \\frac{GMm}{r^2} $$ Here m represents the mass of the smaller object orbiting the larger one. The total force acting on it is just the gravitational force.\n",
        "$$a = \\frac{GM}{r^2}$$ Cancel out the m(s)\n",
        "\n",
        "$$a*r= \\frac{GM}{r}$$ The centrifugal acceleration is equal to $$ \\frac{v^2}{r}$$ The r cancels leaving:\n",
        "$$v^2 = \\frac{GM}{r}$$"
      ],
      "metadata": {
        "id": "vtexmtUaMdJB"
      }
    },
    {
      "cell_type": "markdown",
      "metadata": {
        "run_control": {
          "frozen": false,
          "read_only": false
        },
        "id": "KQAEJtWuOdCb"
      },
      "source": [
        "## M31 rotational curve"
      ]
    },
    {
      "cell_type": "markdown",
      "metadata": {
        "ExecuteTime": {
          "end_time": "2019-08-02T01:34:15.029084Z",
          "start_time": "2019-08-02T01:34:15.026604Z"
        },
        "run_control": {
          "frozen": false,
          "read_only": false
        },
        "id": "BTaXzFYeOdCc"
      },
      "source": [
        "### data ingestion\n",
        "Orignal data in https://academic.oup.com/pasj/article-abstract/67/4/75/1536635?redirectedFrom=fulltext&login=false but I converted it to csv already for you\n",
        "\n",
        "Get the data from the github repository https://github.com/fedhere/DSPS_FBianco/tree/master/HW4 : there are 2 files: mw.csv for the Millky Way and m31.csv for M31,the Andromeda galaxy. Start with M31,  Vera Rubin's original target."
      ]
    },
    {
      "cell_type": "markdown",
      "metadata": {
        "id": "_iFrkUYEV1SS"
      },
      "source": [
        "Note that the data contains 2 types of uncertainties: one significantly smaller than the other. The ```dv``` uncertainty derived by propagating the uncertainty in the measured  wavelength of the HII line. The uncertainty called ```err``` is the remaining error budget. To include all sources combine in quadrature the uncertiainties `dv` and `err` and call that `err_tot` including _all_ sources of uncertainty and not just the uncertainty in measuring the location of the line. Retain both, you will test your hypothesis with each one to see if it matters which uncertainty you choose"
      ]
    },
    {
      "cell_type": "code",
      "source": [
        "m31 = pd.read_csv('https://raw.githubusercontent.com/fedhere/DSPS_FBianco/master/HW4/m31.csv')"
      ],
      "metadata": {
        "id": "_BAmrZw-_GMR"
      },
      "execution_count": 183,
      "outputs": []
    },
    {
      "cell_type": "code",
      "metadata": {
        "ExecuteTime": {
          "end_time": "2019-08-02T01:34:33.446619Z",
          "start_time": "2019-08-02T01:34:33.435793Z"
        },
        "run_control": {
          "frozen": false,
          "read_only": false
        },
        "id": "eZ7nr5DROdCd",
        "colab": {
          "base_uri": "https://localhost:8080/"
        },
        "outputId": "024391cc-b95e-4298-ba3f-c6031266376e"
      },
      "source": [
        "\n",
        "print(m31.head())\n",
        "m31 = m31.drop(0)\n",
        "m31[\"err_tot\"] = np.sqrt(pd.to_numeric(m31[\"Rotation\"])**2 + pd.to_numeric(m31[\"Curve\"])**2)"
      ],
      "execution_count": 184,
      "outputs": [
        {
          "output_type": "stream",
          "name": "stdout",
          "text": [
            "     #M31    Grand Rotation     Curve\n",
            "0  #R(kpc  V(km/s)  St.dev.  St.error\n",
            "1   0.100  183.939    0.000     0.000\n",
            "2   0.120  190.710   10.265    12.191\n",
            "3   0.144  204.141   22.634    21.808\n",
            "4   0.173  207.601    4.573     4.200\n"
          ]
        }
      ]
    },
    {
      "cell_type": "code",
      "metadata": {
        "id": "luL5UrsNQ1M1",
        "colab": {
          "base_uri": "https://localhost:8080/",
          "height": 206
        },
        "outputId": "c86a277d-d548-4715-d0fe-904615b6898e"
      },
      "source": [
        "\n",
        "m31.head()"
      ],
      "execution_count": 185,
      "outputs": [
        {
          "output_type": "execute_result",
          "data": {
            "text/plain": [
              "    #M31    Grand Rotation   Curve    err_tot\n",
              "1  0.100  183.939    0.000   0.000   0.000000\n",
              "2  0.120  190.710   10.265  12.191  15.937086\n",
              "3  0.144  204.141   22.634  21.808  31.430667\n",
              "4  0.173  207.601    4.573   4.200   6.209052\n",
              "5  0.207  210.188    3.943   3.258   5.114862"
            ],
            "text/html": [
              "\n",
              "  <div id=\"df-5986453e-a815-4aa5-816f-01d52981ee01\" class=\"colab-df-container\">\n",
              "    <div>\n",
              "<style scoped>\n",
              "    .dataframe tbody tr th:only-of-type {\n",
              "        vertical-align: middle;\n",
              "    }\n",
              "\n",
              "    .dataframe tbody tr th {\n",
              "        vertical-align: top;\n",
              "    }\n",
              "\n",
              "    .dataframe thead th {\n",
              "        text-align: right;\n",
              "    }\n",
              "</style>\n",
              "<table border=\"1\" class=\"dataframe\">\n",
              "  <thead>\n",
              "    <tr style=\"text-align: right;\">\n",
              "      <th></th>\n",
              "      <th>#M31</th>\n",
              "      <th>Grand</th>\n",
              "      <th>Rotation</th>\n",
              "      <th>Curve</th>\n",
              "      <th>err_tot</th>\n",
              "    </tr>\n",
              "  </thead>\n",
              "  <tbody>\n",
              "    <tr>\n",
              "      <th>1</th>\n",
              "      <td>0.100</td>\n",
              "      <td>183.939</td>\n",
              "      <td>0.000</td>\n",
              "      <td>0.000</td>\n",
              "      <td>0.000000</td>\n",
              "    </tr>\n",
              "    <tr>\n",
              "      <th>2</th>\n",
              "      <td>0.120</td>\n",
              "      <td>190.710</td>\n",
              "      <td>10.265</td>\n",
              "      <td>12.191</td>\n",
              "      <td>15.937086</td>\n",
              "    </tr>\n",
              "    <tr>\n",
              "      <th>3</th>\n",
              "      <td>0.144</td>\n",
              "      <td>204.141</td>\n",
              "      <td>22.634</td>\n",
              "      <td>21.808</td>\n",
              "      <td>31.430667</td>\n",
              "    </tr>\n",
              "    <tr>\n",
              "      <th>4</th>\n",
              "      <td>0.173</td>\n",
              "      <td>207.601</td>\n",
              "      <td>4.573</td>\n",
              "      <td>4.200</td>\n",
              "      <td>6.209052</td>\n",
              "    </tr>\n",
              "    <tr>\n",
              "      <th>5</th>\n",
              "      <td>0.207</td>\n",
              "      <td>210.188</td>\n",
              "      <td>3.943</td>\n",
              "      <td>3.258</td>\n",
              "      <td>5.114862</td>\n",
              "    </tr>\n",
              "  </tbody>\n",
              "</table>\n",
              "</div>\n",
              "    <div class=\"colab-df-buttons\">\n",
              "\n",
              "  <div class=\"colab-df-container\">\n",
              "    <button class=\"colab-df-convert\" onclick=\"convertToInteractive('df-5986453e-a815-4aa5-816f-01d52981ee01')\"\n",
              "            title=\"Convert this dataframe to an interactive table.\"\n",
              "            style=\"display:none;\">\n",
              "\n",
              "  <svg xmlns=\"http://www.w3.org/2000/svg\" height=\"24px\" viewBox=\"0 -960 960 960\">\n",
              "    <path d=\"M120-120v-720h720v720H120Zm60-500h600v-160H180v160Zm220 220h160v-160H400v160Zm0 220h160v-160H400v160ZM180-400h160v-160H180v160Zm440 0h160v-160H620v160ZM180-180h160v-160H180v160Zm440 0h160v-160H620v160Z\"/>\n",
              "  </svg>\n",
              "    </button>\n",
              "\n",
              "  <style>\n",
              "    .colab-df-container {\n",
              "      display:flex;\n",
              "      gap: 12px;\n",
              "    }\n",
              "\n",
              "    .colab-df-convert {\n",
              "      background-color: #E8F0FE;\n",
              "      border: none;\n",
              "      border-radius: 50%;\n",
              "      cursor: pointer;\n",
              "      display: none;\n",
              "      fill: #1967D2;\n",
              "      height: 32px;\n",
              "      padding: 0 0 0 0;\n",
              "      width: 32px;\n",
              "    }\n",
              "\n",
              "    .colab-df-convert:hover {\n",
              "      background-color: #E2EBFA;\n",
              "      box-shadow: 0px 1px 2px rgba(60, 64, 67, 0.3), 0px 1px 3px 1px rgba(60, 64, 67, 0.15);\n",
              "      fill: #174EA6;\n",
              "    }\n",
              "\n",
              "    .colab-df-buttons div {\n",
              "      margin-bottom: 4px;\n",
              "    }\n",
              "\n",
              "    [theme=dark] .colab-df-convert {\n",
              "      background-color: #3B4455;\n",
              "      fill: #D2E3FC;\n",
              "    }\n",
              "\n",
              "    [theme=dark] .colab-df-convert:hover {\n",
              "      background-color: #434B5C;\n",
              "      box-shadow: 0px 1px 3px 1px rgba(0, 0, 0, 0.15);\n",
              "      filter: drop-shadow(0px 1px 2px rgba(0, 0, 0, 0.3));\n",
              "      fill: #FFFFFF;\n",
              "    }\n",
              "  </style>\n",
              "\n",
              "    <script>\n",
              "      const buttonEl =\n",
              "        document.querySelector('#df-5986453e-a815-4aa5-816f-01d52981ee01 button.colab-df-convert');\n",
              "      buttonEl.style.display =\n",
              "        google.colab.kernel.accessAllowed ? 'block' : 'none';\n",
              "\n",
              "      async function convertToInteractive(key) {\n",
              "        const element = document.querySelector('#df-5986453e-a815-4aa5-816f-01d52981ee01');\n",
              "        const dataTable =\n",
              "          await google.colab.kernel.invokeFunction('convertToInteractive',\n",
              "                                                    [key], {});\n",
              "        if (!dataTable) return;\n",
              "\n",
              "        const docLinkHtml = 'Like what you see? Visit the ' +\n",
              "          '<a target=\"_blank\" href=https://colab.research.google.com/notebooks/data_table.ipynb>data table notebook</a>'\n",
              "          + ' to learn more about interactive tables.';\n",
              "        element.innerHTML = '';\n",
              "        dataTable['output_type'] = 'display_data';\n",
              "        await google.colab.output.renderOutput(dataTable, element);\n",
              "        const docLink = document.createElement('div');\n",
              "        docLink.innerHTML = docLinkHtml;\n",
              "        element.appendChild(docLink);\n",
              "      }\n",
              "    </script>\n",
              "  </div>\n",
              "\n",
              "\n",
              "    <div id=\"df-d7535d1f-b5c8-4801-b84e-a4401e358b19\">\n",
              "      <button class=\"colab-df-quickchart\" onclick=\"quickchart('df-d7535d1f-b5c8-4801-b84e-a4401e358b19')\"\n",
              "                title=\"Suggest charts\"\n",
              "                style=\"display:none;\">\n",
              "\n",
              "<svg xmlns=\"http://www.w3.org/2000/svg\" height=\"24px\"viewBox=\"0 0 24 24\"\n",
              "     width=\"24px\">\n",
              "    <g>\n",
              "        <path d=\"M19 3H5c-1.1 0-2 .9-2 2v14c0 1.1.9 2 2 2h14c1.1 0 2-.9 2-2V5c0-1.1-.9-2-2-2zM9 17H7v-7h2v7zm4 0h-2V7h2v10zm4 0h-2v-4h2v4z\"/>\n",
              "    </g>\n",
              "</svg>\n",
              "      </button>\n",
              "\n",
              "<style>\n",
              "  .colab-df-quickchart {\n",
              "      --bg-color: #E8F0FE;\n",
              "      --fill-color: #1967D2;\n",
              "      --hover-bg-color: #E2EBFA;\n",
              "      --hover-fill-color: #174EA6;\n",
              "      --disabled-fill-color: #AAA;\n",
              "      --disabled-bg-color: #DDD;\n",
              "  }\n",
              "\n",
              "  [theme=dark] .colab-df-quickchart {\n",
              "      --bg-color: #3B4455;\n",
              "      --fill-color: #D2E3FC;\n",
              "      --hover-bg-color: #434B5C;\n",
              "      --hover-fill-color: #FFFFFF;\n",
              "      --disabled-bg-color: #3B4455;\n",
              "      --disabled-fill-color: #666;\n",
              "  }\n",
              "\n",
              "  .colab-df-quickchart {\n",
              "    background-color: var(--bg-color);\n",
              "    border: none;\n",
              "    border-radius: 50%;\n",
              "    cursor: pointer;\n",
              "    display: none;\n",
              "    fill: var(--fill-color);\n",
              "    height: 32px;\n",
              "    padding: 0;\n",
              "    width: 32px;\n",
              "  }\n",
              "\n",
              "  .colab-df-quickchart:hover {\n",
              "    background-color: var(--hover-bg-color);\n",
              "    box-shadow: 0 1px 2px rgba(60, 64, 67, 0.3), 0 1px 3px 1px rgba(60, 64, 67, 0.15);\n",
              "    fill: var(--button-hover-fill-color);\n",
              "  }\n",
              "\n",
              "  .colab-df-quickchart-complete:disabled,\n",
              "  .colab-df-quickchart-complete:disabled:hover {\n",
              "    background-color: var(--disabled-bg-color);\n",
              "    fill: var(--disabled-fill-color);\n",
              "    box-shadow: none;\n",
              "  }\n",
              "\n",
              "  .colab-df-spinner {\n",
              "    border: 2px solid var(--fill-color);\n",
              "    border-color: transparent;\n",
              "    border-bottom-color: var(--fill-color);\n",
              "    animation:\n",
              "      spin 1s steps(1) infinite;\n",
              "  }\n",
              "\n",
              "  @keyframes spin {\n",
              "    0% {\n",
              "      border-color: transparent;\n",
              "      border-bottom-color: var(--fill-color);\n",
              "      border-left-color: var(--fill-color);\n",
              "    }\n",
              "    20% {\n",
              "      border-color: transparent;\n",
              "      border-left-color: var(--fill-color);\n",
              "      border-top-color: var(--fill-color);\n",
              "    }\n",
              "    30% {\n",
              "      border-color: transparent;\n",
              "      border-left-color: var(--fill-color);\n",
              "      border-top-color: var(--fill-color);\n",
              "      border-right-color: var(--fill-color);\n",
              "    }\n",
              "    40% {\n",
              "      border-color: transparent;\n",
              "      border-right-color: var(--fill-color);\n",
              "      border-top-color: var(--fill-color);\n",
              "    }\n",
              "    60% {\n",
              "      border-color: transparent;\n",
              "      border-right-color: var(--fill-color);\n",
              "    }\n",
              "    80% {\n",
              "      border-color: transparent;\n",
              "      border-right-color: var(--fill-color);\n",
              "      border-bottom-color: var(--fill-color);\n",
              "    }\n",
              "    90% {\n",
              "      border-color: transparent;\n",
              "      border-bottom-color: var(--fill-color);\n",
              "    }\n",
              "  }\n",
              "</style>\n",
              "\n",
              "      <script>\n",
              "        async function quickchart(key) {\n",
              "          const quickchartButtonEl =\n",
              "            document.querySelector('#' + key + ' button');\n",
              "          quickchartButtonEl.disabled = true;  // To prevent multiple clicks.\n",
              "          quickchartButtonEl.classList.add('colab-df-spinner');\n",
              "          try {\n",
              "            const charts = await google.colab.kernel.invokeFunction(\n",
              "                'suggestCharts', [key], {});\n",
              "          } catch (error) {\n",
              "            console.error('Error during call to suggestCharts:', error);\n",
              "          }\n",
              "          quickchartButtonEl.classList.remove('colab-df-spinner');\n",
              "          quickchartButtonEl.classList.add('colab-df-quickchart-complete');\n",
              "        }\n",
              "        (() => {\n",
              "          let quickchartButtonEl =\n",
              "            document.querySelector('#df-d7535d1f-b5c8-4801-b84e-a4401e358b19 button');\n",
              "          quickchartButtonEl.style.display =\n",
              "            google.colab.kernel.accessAllowed ? 'block' : 'none';\n",
              "        })();\n",
              "      </script>\n",
              "    </div>\n",
              "\n",
              "    </div>\n",
              "  </div>\n"
            ],
            "application/vnd.google.colaboratory.intrinsic+json": {
              "type": "dataframe",
              "variable_name": "m31",
              "summary": "{\n  \"name\": \"m31\",\n  \"rows\": 55,\n  \"fields\": [\n    {\n      \"column\": \"#M31\",\n      \"properties\": {\n        \"dtype\": \"string\",\n        \"num_unique_values\": 55,\n        \"samples\": [\n          \"28.485\",\n          \"0.249\",\n          \"34.182\"\n        ],\n        \"semantic_type\": \"\",\n        \"description\": \"\"\n      }\n    },\n    {\n      \"column\": \"Grand\",\n      \"properties\": {\n        \"dtype\": \"string\",\n        \"num_unique_values\": 55,\n        \"samples\": [\n          \"232.335\",\n          \"213.512\",\n          \"233.530\"\n        ],\n        \"semantic_type\": \"\",\n        \"description\": \"\"\n      }\n    },\n    {\n      \"column\": \"Rotation\",\n      \"properties\": {\n        \"dtype\": \"string\",\n        \"num_unique_values\": 55,\n        \"samples\": [\n          \"16.577\",\n          \"4.218\",\n          \"27.353\"\n        ],\n        \"semantic_type\": \"\",\n        \"description\": \"\"\n      }\n    },\n    {\n      \"column\": \"Curve\",\n      \"properties\": {\n        \"dtype\": \"string\",\n        \"num_unique_values\": 55,\n        \"samples\": [\n          \"2.106\",\n          \"3.190\",\n          \"3.826\"\n        ],\n        \"semantic_type\": \"\",\n        \"description\": \"\"\n      }\n    },\n    {\n      \"column\": \"err_tot\",\n      \"properties\": {\n        \"dtype\": \"number\",\n        \"std\": 50.970281870211416,\n        \"min\": 0.0,\n        \"max\": 152.20139700410112,\n        \"num_unique_values\": 55,\n        \"samples\": [\n          16.7102413208188,\n          5.2884424928328375,\n          27.61928465764456\n        ],\n        \"semantic_type\": \"\",\n        \"description\": \"\"\n      }\n    }\n  ]\n}"
            }
          },
          "metadata": {},
          "execution_count": 185
        }
      ]
    },
    {
      "cell_type": "code",
      "source": [
        "m31.tail()"
      ],
      "metadata": {
        "colab": {
          "base_uri": "https://localhost:8080/",
          "height": 206
        },
        "id": "MWfIVvIi73Ax",
        "outputId": "93804e61-51e6-4329-900f-bb0e49da0a60"
      },
      "execution_count": 186,
      "outputs": [
        {
          "output_type": "execute_result",
          "data": {
            "text/plain": [
              "        #M31    Grand Rotation   Curve     err_tot\n",
              "51   910.046  250.377  141.353  22.663  143.158242\n",
              "52  1092.055  241.900  138.657  39.031  144.045766\n",
              "53  1310.466  235.039  103.480  46.508  113.450890\n",
              "54  1572.559  332.734  109.504  54.110  122.143433\n",
              "55  1887.071  414.942   69.579  27.931   74.975849"
            ],
            "text/html": [
              "\n",
              "  <div id=\"df-2dc3e647-9f12-4be7-b762-6db0e6272dcc\" class=\"colab-df-container\">\n",
              "    <div>\n",
              "<style scoped>\n",
              "    .dataframe tbody tr th:only-of-type {\n",
              "        vertical-align: middle;\n",
              "    }\n",
              "\n",
              "    .dataframe tbody tr th {\n",
              "        vertical-align: top;\n",
              "    }\n",
              "\n",
              "    .dataframe thead th {\n",
              "        text-align: right;\n",
              "    }\n",
              "</style>\n",
              "<table border=\"1\" class=\"dataframe\">\n",
              "  <thead>\n",
              "    <tr style=\"text-align: right;\">\n",
              "      <th></th>\n",
              "      <th>#M31</th>\n",
              "      <th>Grand</th>\n",
              "      <th>Rotation</th>\n",
              "      <th>Curve</th>\n",
              "      <th>err_tot</th>\n",
              "    </tr>\n",
              "  </thead>\n",
              "  <tbody>\n",
              "    <tr>\n",
              "      <th>51</th>\n",
              "      <td>910.046</td>\n",
              "      <td>250.377</td>\n",
              "      <td>141.353</td>\n",
              "      <td>22.663</td>\n",
              "      <td>143.158242</td>\n",
              "    </tr>\n",
              "    <tr>\n",
              "      <th>52</th>\n",
              "      <td>1092.055</td>\n",
              "      <td>241.900</td>\n",
              "      <td>138.657</td>\n",
              "      <td>39.031</td>\n",
              "      <td>144.045766</td>\n",
              "    </tr>\n",
              "    <tr>\n",
              "      <th>53</th>\n",
              "      <td>1310.466</td>\n",
              "      <td>235.039</td>\n",
              "      <td>103.480</td>\n",
              "      <td>46.508</td>\n",
              "      <td>113.450890</td>\n",
              "    </tr>\n",
              "    <tr>\n",
              "      <th>54</th>\n",
              "      <td>1572.559</td>\n",
              "      <td>332.734</td>\n",
              "      <td>109.504</td>\n",
              "      <td>54.110</td>\n",
              "      <td>122.143433</td>\n",
              "    </tr>\n",
              "    <tr>\n",
              "      <th>55</th>\n",
              "      <td>1887.071</td>\n",
              "      <td>414.942</td>\n",
              "      <td>69.579</td>\n",
              "      <td>27.931</td>\n",
              "      <td>74.975849</td>\n",
              "    </tr>\n",
              "  </tbody>\n",
              "</table>\n",
              "</div>\n",
              "    <div class=\"colab-df-buttons\">\n",
              "\n",
              "  <div class=\"colab-df-container\">\n",
              "    <button class=\"colab-df-convert\" onclick=\"convertToInteractive('df-2dc3e647-9f12-4be7-b762-6db0e6272dcc')\"\n",
              "            title=\"Convert this dataframe to an interactive table.\"\n",
              "            style=\"display:none;\">\n",
              "\n",
              "  <svg xmlns=\"http://www.w3.org/2000/svg\" height=\"24px\" viewBox=\"0 -960 960 960\">\n",
              "    <path d=\"M120-120v-720h720v720H120Zm60-500h600v-160H180v160Zm220 220h160v-160H400v160Zm0 220h160v-160H400v160ZM180-400h160v-160H180v160Zm440 0h160v-160H620v160ZM180-180h160v-160H180v160Zm440 0h160v-160H620v160Z\"/>\n",
              "  </svg>\n",
              "    </button>\n",
              "\n",
              "  <style>\n",
              "    .colab-df-container {\n",
              "      display:flex;\n",
              "      gap: 12px;\n",
              "    }\n",
              "\n",
              "    .colab-df-convert {\n",
              "      background-color: #E8F0FE;\n",
              "      border: none;\n",
              "      border-radius: 50%;\n",
              "      cursor: pointer;\n",
              "      display: none;\n",
              "      fill: #1967D2;\n",
              "      height: 32px;\n",
              "      padding: 0 0 0 0;\n",
              "      width: 32px;\n",
              "    }\n",
              "\n",
              "    .colab-df-convert:hover {\n",
              "      background-color: #E2EBFA;\n",
              "      box-shadow: 0px 1px 2px rgba(60, 64, 67, 0.3), 0px 1px 3px 1px rgba(60, 64, 67, 0.15);\n",
              "      fill: #174EA6;\n",
              "    }\n",
              "\n",
              "    .colab-df-buttons div {\n",
              "      margin-bottom: 4px;\n",
              "    }\n",
              "\n",
              "    [theme=dark] .colab-df-convert {\n",
              "      background-color: #3B4455;\n",
              "      fill: #D2E3FC;\n",
              "    }\n",
              "\n",
              "    [theme=dark] .colab-df-convert:hover {\n",
              "      background-color: #434B5C;\n",
              "      box-shadow: 0px 1px 3px 1px rgba(0, 0, 0, 0.15);\n",
              "      filter: drop-shadow(0px 1px 2px rgba(0, 0, 0, 0.3));\n",
              "      fill: #FFFFFF;\n",
              "    }\n",
              "  </style>\n",
              "\n",
              "    <script>\n",
              "      const buttonEl =\n",
              "        document.querySelector('#df-2dc3e647-9f12-4be7-b762-6db0e6272dcc button.colab-df-convert');\n",
              "      buttonEl.style.display =\n",
              "        google.colab.kernel.accessAllowed ? 'block' : 'none';\n",
              "\n",
              "      async function convertToInteractive(key) {\n",
              "        const element = document.querySelector('#df-2dc3e647-9f12-4be7-b762-6db0e6272dcc');\n",
              "        const dataTable =\n",
              "          await google.colab.kernel.invokeFunction('convertToInteractive',\n",
              "                                                    [key], {});\n",
              "        if (!dataTable) return;\n",
              "\n",
              "        const docLinkHtml = 'Like what you see? Visit the ' +\n",
              "          '<a target=\"_blank\" href=https://colab.research.google.com/notebooks/data_table.ipynb>data table notebook</a>'\n",
              "          + ' to learn more about interactive tables.';\n",
              "        element.innerHTML = '';\n",
              "        dataTable['output_type'] = 'display_data';\n",
              "        await google.colab.output.renderOutput(dataTable, element);\n",
              "        const docLink = document.createElement('div');\n",
              "        docLink.innerHTML = docLinkHtml;\n",
              "        element.appendChild(docLink);\n",
              "      }\n",
              "    </script>\n",
              "  </div>\n",
              "\n",
              "\n",
              "    <div id=\"df-275a450e-fd02-4d63-ae70-4c6213f57ac2\">\n",
              "      <button class=\"colab-df-quickchart\" onclick=\"quickchart('df-275a450e-fd02-4d63-ae70-4c6213f57ac2')\"\n",
              "                title=\"Suggest charts\"\n",
              "                style=\"display:none;\">\n",
              "\n",
              "<svg xmlns=\"http://www.w3.org/2000/svg\" height=\"24px\"viewBox=\"0 0 24 24\"\n",
              "     width=\"24px\">\n",
              "    <g>\n",
              "        <path d=\"M19 3H5c-1.1 0-2 .9-2 2v14c0 1.1.9 2 2 2h14c1.1 0 2-.9 2-2V5c0-1.1-.9-2-2-2zM9 17H7v-7h2v7zm4 0h-2V7h2v10zm4 0h-2v-4h2v4z\"/>\n",
              "    </g>\n",
              "</svg>\n",
              "      </button>\n",
              "\n",
              "<style>\n",
              "  .colab-df-quickchart {\n",
              "      --bg-color: #E8F0FE;\n",
              "      --fill-color: #1967D2;\n",
              "      --hover-bg-color: #E2EBFA;\n",
              "      --hover-fill-color: #174EA6;\n",
              "      --disabled-fill-color: #AAA;\n",
              "      --disabled-bg-color: #DDD;\n",
              "  }\n",
              "\n",
              "  [theme=dark] .colab-df-quickchart {\n",
              "      --bg-color: #3B4455;\n",
              "      --fill-color: #D2E3FC;\n",
              "      --hover-bg-color: #434B5C;\n",
              "      --hover-fill-color: #FFFFFF;\n",
              "      --disabled-bg-color: #3B4455;\n",
              "      --disabled-fill-color: #666;\n",
              "  }\n",
              "\n",
              "  .colab-df-quickchart {\n",
              "    background-color: var(--bg-color);\n",
              "    border: none;\n",
              "    border-radius: 50%;\n",
              "    cursor: pointer;\n",
              "    display: none;\n",
              "    fill: var(--fill-color);\n",
              "    height: 32px;\n",
              "    padding: 0;\n",
              "    width: 32px;\n",
              "  }\n",
              "\n",
              "  .colab-df-quickchart:hover {\n",
              "    background-color: var(--hover-bg-color);\n",
              "    box-shadow: 0 1px 2px rgba(60, 64, 67, 0.3), 0 1px 3px 1px rgba(60, 64, 67, 0.15);\n",
              "    fill: var(--button-hover-fill-color);\n",
              "  }\n",
              "\n",
              "  .colab-df-quickchart-complete:disabled,\n",
              "  .colab-df-quickchart-complete:disabled:hover {\n",
              "    background-color: var(--disabled-bg-color);\n",
              "    fill: var(--disabled-fill-color);\n",
              "    box-shadow: none;\n",
              "  }\n",
              "\n",
              "  .colab-df-spinner {\n",
              "    border: 2px solid var(--fill-color);\n",
              "    border-color: transparent;\n",
              "    border-bottom-color: var(--fill-color);\n",
              "    animation:\n",
              "      spin 1s steps(1) infinite;\n",
              "  }\n",
              "\n",
              "  @keyframes spin {\n",
              "    0% {\n",
              "      border-color: transparent;\n",
              "      border-bottom-color: var(--fill-color);\n",
              "      border-left-color: var(--fill-color);\n",
              "    }\n",
              "    20% {\n",
              "      border-color: transparent;\n",
              "      border-left-color: var(--fill-color);\n",
              "      border-top-color: var(--fill-color);\n",
              "    }\n",
              "    30% {\n",
              "      border-color: transparent;\n",
              "      border-left-color: var(--fill-color);\n",
              "      border-top-color: var(--fill-color);\n",
              "      border-right-color: var(--fill-color);\n",
              "    }\n",
              "    40% {\n",
              "      border-color: transparent;\n",
              "      border-right-color: var(--fill-color);\n",
              "      border-top-color: var(--fill-color);\n",
              "    }\n",
              "    60% {\n",
              "      border-color: transparent;\n",
              "      border-right-color: var(--fill-color);\n",
              "    }\n",
              "    80% {\n",
              "      border-color: transparent;\n",
              "      border-right-color: var(--fill-color);\n",
              "      border-bottom-color: var(--fill-color);\n",
              "    }\n",
              "    90% {\n",
              "      border-color: transparent;\n",
              "      border-bottom-color: var(--fill-color);\n",
              "    }\n",
              "  }\n",
              "</style>\n",
              "\n",
              "      <script>\n",
              "        async function quickchart(key) {\n",
              "          const quickchartButtonEl =\n",
              "            document.querySelector('#' + key + ' button');\n",
              "          quickchartButtonEl.disabled = true;  // To prevent multiple clicks.\n",
              "          quickchartButtonEl.classList.add('colab-df-spinner');\n",
              "          try {\n",
              "            const charts = await google.colab.kernel.invokeFunction(\n",
              "                'suggestCharts', [key], {});\n",
              "          } catch (error) {\n",
              "            console.error('Error during call to suggestCharts:', error);\n",
              "          }\n",
              "          quickchartButtonEl.classList.remove('colab-df-spinner');\n",
              "          quickchartButtonEl.classList.add('colab-df-quickchart-complete');\n",
              "        }\n",
              "        (() => {\n",
              "          let quickchartButtonEl =\n",
              "            document.querySelector('#df-275a450e-fd02-4d63-ae70-4c6213f57ac2 button');\n",
              "          quickchartButtonEl.style.display =\n",
              "            google.colab.kernel.accessAllowed ? 'block' : 'none';\n",
              "        })();\n",
              "      </script>\n",
              "    </div>\n",
              "\n",
              "    </div>\n",
              "  </div>\n"
            ],
            "application/vnd.google.colaboratory.intrinsic+json": {
              "type": "dataframe",
              "summary": "{\n  \"name\": \"m31\",\n  \"rows\": 5,\n  \"fields\": [\n    {\n      \"column\": \"#M31\",\n      \"properties\": {\n        \"dtype\": \"string\",\n        \"num_unique_values\": 5,\n        \"samples\": [\n          \"1092.055\",\n          \"1887.071\",\n          \"1310.466\"\n        ],\n        \"semantic_type\": \"\",\n        \"description\": \"\"\n      }\n    },\n    {\n      \"column\": \"Grand\",\n      \"properties\": {\n        \"dtype\": \"string\",\n        \"num_unique_values\": 5,\n        \"samples\": [\n          \"241.900\",\n          \"414.942\",\n          \"235.039\"\n        ],\n        \"semantic_type\": \"\",\n        \"description\": \"\"\n      }\n    },\n    {\n      \"column\": \"Rotation\",\n      \"properties\": {\n        \"dtype\": \"string\",\n        \"num_unique_values\": 5,\n        \"samples\": [\n          \"138.657\",\n          \"69.579\",\n          \"103.480\"\n        ],\n        \"semantic_type\": \"\",\n        \"description\": \"\"\n      }\n    },\n    {\n      \"column\": \"Curve\",\n      \"properties\": {\n        \"dtype\": \"string\",\n        \"num_unique_values\": 5,\n        \"samples\": [\n          \"39.031\",\n          \"27.931\",\n          \"46.508\"\n        ],\n        \"semantic_type\": \"\",\n        \"description\": \"\"\n      }\n    },\n    {\n      \"column\": \"err_tot\",\n      \"properties\": {\n        \"dtype\": \"number\",\n        \"std\": 28.231947452403272,\n        \"min\": 74.97584945834224,\n        \"max\": 144.04576567882862,\n        \"num_unique_values\": 5,\n        \"samples\": [\n          144.04576567882862,\n          74.97584945834224,\n          113.45089009787452\n        ],\n        \"semantic_type\": \"\",\n        \"description\": \"\"\n      }\n    }\n  ]\n}"
            }
          },
          "metadata": {},
          "execution_count": 186
        }
      ]
    },
    {
      "cell_type": "markdown",
      "source": [
        "# exploratory data analysis\n",
        "proceed with at least a few basic exploratory tasks\n",
        "\n",
        "- what is the shape of the dataset?\n",
        "\n",
        "- what are the statistical properties of the dataset? like the mean and variance of each column etc etc? do you remember how to get them with a single python line of code?\n",
        "\n",
        "Look at the mean and the median of each column - what can you say about the distribution based on the comparison of these two numbers?"
      ],
      "metadata": {
        "id": "8nZhqbhvP2UC"
      }
    },
    {
      "cell_type": "code",
      "metadata": {
        "ExecuteTime": {
          "end_time": "2019-08-02T01:35:26.395158Z",
          "start_time": "2019-08-02T01:35:26.373338Z"
        },
        "run_control": {
          "frozen": false,
          "read_only": false
        },
        "id": "QsNRokb1OdCh",
        "colab": {
          "base_uri": "https://localhost:8080/"
        },
        "outputId": "ef66258b-825e-46c4-9620-609a32d9b5d0"
      },
      "source": [
        "m31.shape"
      ],
      "execution_count": 187,
      "outputs": [
        {
          "output_type": "execute_result",
          "data": {
            "text/plain": [
              "(55, 5)"
            ]
          },
          "metadata": {},
          "execution_count": 187
        }
      ]
    },
    {
      "cell_type": "code",
      "source": [
        "m31[\"#M31\"] = pd.to_numeric(m31[\"#M31\"])\n",
        "m31[\"Grand\"] = pd.to_numeric(m31[\"Grand\"])\n",
        "m31[\"Rotation\"] = pd.to_numeric(m31[\"Rotation\"])\n",
        "m31[\"Curve\"] = pd.to_numeric(m31[\"Curve\"])\n",
        "\n",
        "m31.describe(include = 'all')"
      ],
      "metadata": {
        "colab": {
          "base_uri": "https://localhost:8080/",
          "height": 300
        },
        "id": "Tecv3mdx7ba7",
        "outputId": "309cd27c-71bb-4854-f609-8a3095668aff"
      },
      "execution_count": 188,
      "outputs": [
        {
          "output_type": "execute_result",
          "data": {
            "text/plain": [
              "              #M31       Grand    Rotation      Curve     err_tot\n",
              "count    55.000000   55.000000   55.000000  55.000000   55.000000\n",
              "mean    205.853182  226.079255   55.034818  16.165855   57.781110\n",
              "std     415.523904   42.799892   49.254792  14.876951   50.970282\n",
              "min       0.100000  121.974000    0.000000   0.000000    0.000000\n",
              "25%       1.177000  208.894500   11.945500   3.224000   12.956817\n",
              "50%      13.737000  229.124000   30.697000  12.065000   32.684957\n",
              "75%     161.675000  244.102500   99.980000  23.641000  107.040605\n",
              "max    1887.071000  414.942000  147.835000  54.110000  152.201397"
            ],
            "text/html": [
              "\n",
              "  <div id=\"df-276411bc-66cb-4e7a-b675-ce3035361ab2\" class=\"colab-df-container\">\n",
              "    <div>\n",
              "<style scoped>\n",
              "    .dataframe tbody tr th:only-of-type {\n",
              "        vertical-align: middle;\n",
              "    }\n",
              "\n",
              "    .dataframe tbody tr th {\n",
              "        vertical-align: top;\n",
              "    }\n",
              "\n",
              "    .dataframe thead th {\n",
              "        text-align: right;\n",
              "    }\n",
              "</style>\n",
              "<table border=\"1\" class=\"dataframe\">\n",
              "  <thead>\n",
              "    <tr style=\"text-align: right;\">\n",
              "      <th></th>\n",
              "      <th>#M31</th>\n",
              "      <th>Grand</th>\n",
              "      <th>Rotation</th>\n",
              "      <th>Curve</th>\n",
              "      <th>err_tot</th>\n",
              "    </tr>\n",
              "  </thead>\n",
              "  <tbody>\n",
              "    <tr>\n",
              "      <th>count</th>\n",
              "      <td>55.000000</td>\n",
              "      <td>55.000000</td>\n",
              "      <td>55.000000</td>\n",
              "      <td>55.000000</td>\n",
              "      <td>55.000000</td>\n",
              "    </tr>\n",
              "    <tr>\n",
              "      <th>mean</th>\n",
              "      <td>205.853182</td>\n",
              "      <td>226.079255</td>\n",
              "      <td>55.034818</td>\n",
              "      <td>16.165855</td>\n",
              "      <td>57.781110</td>\n",
              "    </tr>\n",
              "    <tr>\n",
              "      <th>std</th>\n",
              "      <td>415.523904</td>\n",
              "      <td>42.799892</td>\n",
              "      <td>49.254792</td>\n",
              "      <td>14.876951</td>\n",
              "      <td>50.970282</td>\n",
              "    </tr>\n",
              "    <tr>\n",
              "      <th>min</th>\n",
              "      <td>0.100000</td>\n",
              "      <td>121.974000</td>\n",
              "      <td>0.000000</td>\n",
              "      <td>0.000000</td>\n",
              "      <td>0.000000</td>\n",
              "    </tr>\n",
              "    <tr>\n",
              "      <th>25%</th>\n",
              "      <td>1.177000</td>\n",
              "      <td>208.894500</td>\n",
              "      <td>11.945500</td>\n",
              "      <td>3.224000</td>\n",
              "      <td>12.956817</td>\n",
              "    </tr>\n",
              "    <tr>\n",
              "      <th>50%</th>\n",
              "      <td>13.737000</td>\n",
              "      <td>229.124000</td>\n",
              "      <td>30.697000</td>\n",
              "      <td>12.065000</td>\n",
              "      <td>32.684957</td>\n",
              "    </tr>\n",
              "    <tr>\n",
              "      <th>75%</th>\n",
              "      <td>161.675000</td>\n",
              "      <td>244.102500</td>\n",
              "      <td>99.980000</td>\n",
              "      <td>23.641000</td>\n",
              "      <td>107.040605</td>\n",
              "    </tr>\n",
              "    <tr>\n",
              "      <th>max</th>\n",
              "      <td>1887.071000</td>\n",
              "      <td>414.942000</td>\n",
              "      <td>147.835000</td>\n",
              "      <td>54.110000</td>\n",
              "      <td>152.201397</td>\n",
              "    </tr>\n",
              "  </tbody>\n",
              "</table>\n",
              "</div>\n",
              "    <div class=\"colab-df-buttons\">\n",
              "\n",
              "  <div class=\"colab-df-container\">\n",
              "    <button class=\"colab-df-convert\" onclick=\"convertToInteractive('df-276411bc-66cb-4e7a-b675-ce3035361ab2')\"\n",
              "            title=\"Convert this dataframe to an interactive table.\"\n",
              "            style=\"display:none;\">\n",
              "\n",
              "  <svg xmlns=\"http://www.w3.org/2000/svg\" height=\"24px\" viewBox=\"0 -960 960 960\">\n",
              "    <path d=\"M120-120v-720h720v720H120Zm60-500h600v-160H180v160Zm220 220h160v-160H400v160Zm0 220h160v-160H400v160ZM180-400h160v-160H180v160Zm440 0h160v-160H620v160ZM180-180h160v-160H180v160Zm440 0h160v-160H620v160Z\"/>\n",
              "  </svg>\n",
              "    </button>\n",
              "\n",
              "  <style>\n",
              "    .colab-df-container {\n",
              "      display:flex;\n",
              "      gap: 12px;\n",
              "    }\n",
              "\n",
              "    .colab-df-convert {\n",
              "      background-color: #E8F0FE;\n",
              "      border: none;\n",
              "      border-radius: 50%;\n",
              "      cursor: pointer;\n",
              "      display: none;\n",
              "      fill: #1967D2;\n",
              "      height: 32px;\n",
              "      padding: 0 0 0 0;\n",
              "      width: 32px;\n",
              "    }\n",
              "\n",
              "    .colab-df-convert:hover {\n",
              "      background-color: #E2EBFA;\n",
              "      box-shadow: 0px 1px 2px rgba(60, 64, 67, 0.3), 0px 1px 3px 1px rgba(60, 64, 67, 0.15);\n",
              "      fill: #174EA6;\n",
              "    }\n",
              "\n",
              "    .colab-df-buttons div {\n",
              "      margin-bottom: 4px;\n",
              "    }\n",
              "\n",
              "    [theme=dark] .colab-df-convert {\n",
              "      background-color: #3B4455;\n",
              "      fill: #D2E3FC;\n",
              "    }\n",
              "\n",
              "    [theme=dark] .colab-df-convert:hover {\n",
              "      background-color: #434B5C;\n",
              "      box-shadow: 0px 1px 3px 1px rgba(0, 0, 0, 0.15);\n",
              "      filter: drop-shadow(0px 1px 2px rgba(0, 0, 0, 0.3));\n",
              "      fill: #FFFFFF;\n",
              "    }\n",
              "  </style>\n",
              "\n",
              "    <script>\n",
              "      const buttonEl =\n",
              "        document.querySelector('#df-276411bc-66cb-4e7a-b675-ce3035361ab2 button.colab-df-convert');\n",
              "      buttonEl.style.display =\n",
              "        google.colab.kernel.accessAllowed ? 'block' : 'none';\n",
              "\n",
              "      async function convertToInteractive(key) {\n",
              "        const element = document.querySelector('#df-276411bc-66cb-4e7a-b675-ce3035361ab2');\n",
              "        const dataTable =\n",
              "          await google.colab.kernel.invokeFunction('convertToInteractive',\n",
              "                                                    [key], {});\n",
              "        if (!dataTable) return;\n",
              "\n",
              "        const docLinkHtml = 'Like what you see? Visit the ' +\n",
              "          '<a target=\"_blank\" href=https://colab.research.google.com/notebooks/data_table.ipynb>data table notebook</a>'\n",
              "          + ' to learn more about interactive tables.';\n",
              "        element.innerHTML = '';\n",
              "        dataTable['output_type'] = 'display_data';\n",
              "        await google.colab.output.renderOutput(dataTable, element);\n",
              "        const docLink = document.createElement('div');\n",
              "        docLink.innerHTML = docLinkHtml;\n",
              "        element.appendChild(docLink);\n",
              "      }\n",
              "    </script>\n",
              "  </div>\n",
              "\n",
              "\n",
              "    <div id=\"df-0f83fb61-e821-4795-ad59-c1684a874c6a\">\n",
              "      <button class=\"colab-df-quickchart\" onclick=\"quickchart('df-0f83fb61-e821-4795-ad59-c1684a874c6a')\"\n",
              "                title=\"Suggest charts\"\n",
              "                style=\"display:none;\">\n",
              "\n",
              "<svg xmlns=\"http://www.w3.org/2000/svg\" height=\"24px\"viewBox=\"0 0 24 24\"\n",
              "     width=\"24px\">\n",
              "    <g>\n",
              "        <path d=\"M19 3H5c-1.1 0-2 .9-2 2v14c0 1.1.9 2 2 2h14c1.1 0 2-.9 2-2V5c0-1.1-.9-2-2-2zM9 17H7v-7h2v7zm4 0h-2V7h2v10zm4 0h-2v-4h2v4z\"/>\n",
              "    </g>\n",
              "</svg>\n",
              "      </button>\n",
              "\n",
              "<style>\n",
              "  .colab-df-quickchart {\n",
              "      --bg-color: #E8F0FE;\n",
              "      --fill-color: #1967D2;\n",
              "      --hover-bg-color: #E2EBFA;\n",
              "      --hover-fill-color: #174EA6;\n",
              "      --disabled-fill-color: #AAA;\n",
              "      --disabled-bg-color: #DDD;\n",
              "  }\n",
              "\n",
              "  [theme=dark] .colab-df-quickchart {\n",
              "      --bg-color: #3B4455;\n",
              "      --fill-color: #D2E3FC;\n",
              "      --hover-bg-color: #434B5C;\n",
              "      --hover-fill-color: #FFFFFF;\n",
              "      --disabled-bg-color: #3B4455;\n",
              "      --disabled-fill-color: #666;\n",
              "  }\n",
              "\n",
              "  .colab-df-quickchart {\n",
              "    background-color: var(--bg-color);\n",
              "    border: none;\n",
              "    border-radius: 50%;\n",
              "    cursor: pointer;\n",
              "    display: none;\n",
              "    fill: var(--fill-color);\n",
              "    height: 32px;\n",
              "    padding: 0;\n",
              "    width: 32px;\n",
              "  }\n",
              "\n",
              "  .colab-df-quickchart:hover {\n",
              "    background-color: var(--hover-bg-color);\n",
              "    box-shadow: 0 1px 2px rgba(60, 64, 67, 0.3), 0 1px 3px 1px rgba(60, 64, 67, 0.15);\n",
              "    fill: var(--button-hover-fill-color);\n",
              "  }\n",
              "\n",
              "  .colab-df-quickchart-complete:disabled,\n",
              "  .colab-df-quickchart-complete:disabled:hover {\n",
              "    background-color: var(--disabled-bg-color);\n",
              "    fill: var(--disabled-fill-color);\n",
              "    box-shadow: none;\n",
              "  }\n",
              "\n",
              "  .colab-df-spinner {\n",
              "    border: 2px solid var(--fill-color);\n",
              "    border-color: transparent;\n",
              "    border-bottom-color: var(--fill-color);\n",
              "    animation:\n",
              "      spin 1s steps(1) infinite;\n",
              "  }\n",
              "\n",
              "  @keyframes spin {\n",
              "    0% {\n",
              "      border-color: transparent;\n",
              "      border-bottom-color: var(--fill-color);\n",
              "      border-left-color: var(--fill-color);\n",
              "    }\n",
              "    20% {\n",
              "      border-color: transparent;\n",
              "      border-left-color: var(--fill-color);\n",
              "      border-top-color: var(--fill-color);\n",
              "    }\n",
              "    30% {\n",
              "      border-color: transparent;\n",
              "      border-left-color: var(--fill-color);\n",
              "      border-top-color: var(--fill-color);\n",
              "      border-right-color: var(--fill-color);\n",
              "    }\n",
              "    40% {\n",
              "      border-color: transparent;\n",
              "      border-right-color: var(--fill-color);\n",
              "      border-top-color: var(--fill-color);\n",
              "    }\n",
              "    60% {\n",
              "      border-color: transparent;\n",
              "      border-right-color: var(--fill-color);\n",
              "    }\n",
              "    80% {\n",
              "      border-color: transparent;\n",
              "      border-right-color: var(--fill-color);\n",
              "      border-bottom-color: var(--fill-color);\n",
              "    }\n",
              "    90% {\n",
              "      border-color: transparent;\n",
              "      border-bottom-color: var(--fill-color);\n",
              "    }\n",
              "  }\n",
              "</style>\n",
              "\n",
              "      <script>\n",
              "        async function quickchart(key) {\n",
              "          const quickchartButtonEl =\n",
              "            document.querySelector('#' + key + ' button');\n",
              "          quickchartButtonEl.disabled = true;  // To prevent multiple clicks.\n",
              "          quickchartButtonEl.classList.add('colab-df-spinner');\n",
              "          try {\n",
              "            const charts = await google.colab.kernel.invokeFunction(\n",
              "                'suggestCharts', [key], {});\n",
              "          } catch (error) {\n",
              "            console.error('Error during call to suggestCharts:', error);\n",
              "          }\n",
              "          quickchartButtonEl.classList.remove('colab-df-spinner');\n",
              "          quickchartButtonEl.classList.add('colab-df-quickchart-complete');\n",
              "        }\n",
              "        (() => {\n",
              "          let quickchartButtonEl =\n",
              "            document.querySelector('#df-0f83fb61-e821-4795-ad59-c1684a874c6a button');\n",
              "          quickchartButtonEl.style.display =\n",
              "            google.colab.kernel.accessAllowed ? 'block' : 'none';\n",
              "        })();\n",
              "      </script>\n",
              "    </div>\n",
              "\n",
              "    </div>\n",
              "  </div>\n"
            ],
            "application/vnd.google.colaboratory.intrinsic+json": {
              "type": "dataframe",
              "summary": "{\n  \"name\": \"m31\",\n  \"rows\": 8,\n  \"fields\": [\n    {\n      \"column\": \"#M31\",\n      \"properties\": {\n        \"dtype\": \"number\",\n        \"std\": 639.9645756159855,\n        \"min\": 0.1,\n        \"max\": 1887.071,\n        \"num_unique_values\": 8,\n        \"samples\": [\n          205.8531818181818,\n          13.737,\n          55.0\n        ],\n        \"semantic_type\": \"\",\n        \"description\": \"\"\n      }\n    },\n    {\n      \"column\": \"Grand\",\n      \"properties\": {\n        \"dtype\": \"number\",\n        \"std\": 120.22012586232157,\n        \"min\": 42.79989232732137,\n        \"max\": 414.942,\n        \"num_unique_values\": 8,\n        \"samples\": [\n          226.07925454545455,\n          229.124,\n          55.0\n        ],\n        \"semantic_type\": \"\",\n        \"description\": \"\"\n      }\n    },\n    {\n      \"column\": \"Rotation\",\n      \"properties\": {\n        \"dtype\": \"number\",\n        \"std\": 48.00594644705554,\n        \"min\": 0.0,\n        \"max\": 147.835,\n        \"num_unique_values\": 8,\n        \"samples\": [\n          55.034818181818196,\n          30.697,\n          55.0\n        ],\n        \"semantic_type\": \"\",\n        \"description\": \"\"\n      }\n    },\n    {\n      \"column\": \"Curve\",\n      \"properties\": {\n        \"dtype\": \"number\",\n        \"std\": 21.184814321007977,\n        \"min\": 0.0,\n        \"max\": 55.0,\n        \"num_unique_values\": 8,\n        \"samples\": [\n          16.165854545454547,\n          12.065,\n          55.0\n        ],\n        \"semantic_type\": \"\",\n        \"description\": \"\"\n      }\n    },\n    {\n      \"column\": \"err_tot\",\n      \"properties\": {\n        \"dtype\": \"number\",\n        \"std\": 49.81164970623109,\n        \"min\": 0.0,\n        \"max\": 152.20139700410112,\n        \"num_unique_values\": 8,\n        \"samples\": [\n          57.781109974996404,\n          32.684957304546074,\n          55.0\n        ],\n        \"semantic_type\": \"\",\n        \"description\": \"\"\n      }\n    }\n  ]\n}"
            }
          },
          "metadata": {},
          "execution_count": 188
        }
      ]
    },
    {
      "cell_type": "code",
      "source": [
        "m31.median()"
      ],
      "metadata": {
        "colab": {
          "base_uri": "https://localhost:8080/",
          "height": 241
        },
        "id": "8JyCfA-NA0qm",
        "outputId": "a442651c-45c3-48b5-d817-d7477bf5d6f0"
      },
      "execution_count": 189,
      "outputs": [
        {
          "output_type": "execute_result",
          "data": {
            "text/plain": [
              "#M31         13.737000\n",
              "Grand       229.124000\n",
              "Rotation     30.697000\n",
              "Curve        12.065000\n",
              "err_tot      32.684957\n",
              "dtype: float64"
            ],
            "text/html": [
              "<div>\n",
              "<style scoped>\n",
              "    .dataframe tbody tr th:only-of-type {\n",
              "        vertical-align: middle;\n",
              "    }\n",
              "\n",
              "    .dataframe tbody tr th {\n",
              "        vertical-align: top;\n",
              "    }\n",
              "\n",
              "    .dataframe thead th {\n",
              "        text-align: right;\n",
              "    }\n",
              "</style>\n",
              "<table border=\"1\" class=\"dataframe\">\n",
              "  <thead>\n",
              "    <tr style=\"text-align: right;\">\n",
              "      <th></th>\n",
              "      <th>0</th>\n",
              "    </tr>\n",
              "  </thead>\n",
              "  <tbody>\n",
              "    <tr>\n",
              "      <th>#M31</th>\n",
              "      <td>13.737000</td>\n",
              "    </tr>\n",
              "    <tr>\n",
              "      <th>Grand</th>\n",
              "      <td>229.124000</td>\n",
              "    </tr>\n",
              "    <tr>\n",
              "      <th>Rotation</th>\n",
              "      <td>30.697000</td>\n",
              "    </tr>\n",
              "    <tr>\n",
              "      <th>Curve</th>\n",
              "      <td>12.065000</td>\n",
              "    </tr>\n",
              "    <tr>\n",
              "      <th>err_tot</th>\n",
              "      <td>32.684957</td>\n",
              "    </tr>\n",
              "  </tbody>\n",
              "</table>\n",
              "</div><br><label><b>dtype:</b> float64</label>"
            ]
          },
          "metadata": {},
          "execution_count": 189
        }
      ]
    },
    {
      "cell_type": "markdown",
      "source": [
        "The most obvious difference between the mean and median is in the #M31 column, which shows the region measured. This indicates that there were a few regions that were significantly larger than the vast majority of the others in the data set.\n",
        "\n",
        "The rotational speed of the regions is fairly consistent between median and mean indicating that there aren't a lot of outliers there. The curve error is similar.\n",
        "\n",
        "The dv uncertainty has a reasonable difference between median and mean showing that a few of the HII lines measured had larger errors.\n"
      ],
      "metadata": {
        "id": "Ud_gBIaPBjIM"
      }
    },
    {
      "cell_type": "markdown",
      "source": [
        "Make a histogram of each column of the dataframe and comment on the shape of the distribution in the caption. Remember the axis labels which, when we work with physical quantities, shoudl also state what units are used."
      ],
      "metadata": {
        "id": "ujTxbjRz8FHB"
      }
    },
    {
      "cell_type": "code",
      "source": [
        "pl.hist(m31[\"#M31\"], bins = 55);\n",
        "pl.xlabel(\"Distance(kpc)\")\n",
        "pl.ylabel(\"Quantity\")\n",
        "pl.title(\"Figure 1\")"
      ],
      "metadata": {
        "id": "OPJxdjzt8D5l",
        "colab": {
          "base_uri": "https://localhost:8080/",
          "height": 489
        },
        "outputId": "d5bf989e-49ce-4969-a9f9-b98f46987035"
      },
      "execution_count": 190,
      "outputs": [
        {
          "output_type": "execute_result",
          "data": {
            "text/plain": [
              "Text(0.5, 1.0, 'Figure 1')"
            ]
          },
          "metadata": {},
          "execution_count": 190
        },
        {
          "output_type": "display_data",
          "data": {
            "text/plain": [
              "<Figure size 640x480 with 1 Axes>"
            ],
            "image/png": "[encoded data removed]"
          },
          "metadata": {}
        }
      ]
    },
    {
      "cell_type": "markdown",
      "source": [
        "This plot maps the distance that measurements took place at. We can see that a huge majority of the measurements were at a fairly close distance."
      ],
      "metadata": {
        "id": "mnm6n9Lk-o0T"
      }
    },
    {
      "cell_type": "code",
      "source": [
        "pl.hist(m31[\"Grand\"], bins = 55);\n",
        "pl.xlabel(\"Velocity(km/s)\")\n",
        "pl.ylabel(\"Quantity\")\n",
        "pl.title(\"Figure 2\")"
      ],
      "metadata": {
        "colab": {
          "base_uri": "https://localhost:8080/",
          "height": 489
        },
        "id": "j8v3ceY4xWf3",
        "outputId": "14187954-8c65-4594-97d5-cfc6e5494add"
      },
      "execution_count": 191,
      "outputs": [
        {
          "output_type": "execute_result",
          "data": {
            "text/plain": [
              "Text(0.5, 1.0, 'Figure 2')"
            ]
          },
          "metadata": {},
          "execution_count": 191
        },
        {
          "output_type": "display_data",
          "data": {
            "text/plain": [
              "<Figure size 640x480 with 1 Axes>"
            ],
            "image/png": "[encoded data removed]"
          },
          "metadata": {}
        }
      ]
    },
    {
      "cell_type": "markdown",
      "source": [
        "This histogram shows the rotational velocity at certain points in Andromeda mapped versus how many times those velocities appear (or similar values). It is concentrated between 200-250 km/s."
      ],
      "metadata": {
        "id": "JhSKj6QW-X2i"
      }
    },
    {
      "cell_type": "code",
      "source": [
        "pl.hist(m31[\"Curve\"], bins = 55);\n",
        "pl.xlabel(\"uncertainty in velocity\")\n",
        "pl.ylabel(\"quantity\")\n",
        "pl.title(\"Figure 3\")"
      ],
      "metadata": {
        "colab": {
          "base_uri": "https://localhost:8080/",
          "height": 489
        },
        "id": "B29Yd6KRxj66",
        "outputId": "407d96c3-f019-4d5c-a13a-17b8af4068de"
      },
      "execution_count": 212,
      "outputs": [
        {
          "output_type": "execute_result",
          "data": {
            "text/plain": [
              "Text(0.5, 1.0, 'Figure 1')"
            ]
          },
          "metadata": {},
          "execution_count": 212
        },
        {
          "output_type": "display_data",
          "data": {
            "text/plain": [
              "<Figure size 640x480 with 1 Axes>"
            ],
            "image/png": "[encoded data removed]"
          },
          "metadata": {}
        }
      ]
    },
    {
      "cell_type": "markdown",
      "source": [
        "This plot shows the uncertainty in rotational velocity. Smaller uncertainties are more common as shown in the histogram."
      ],
      "metadata": {
        "id": "8q-HThkp-MHw"
      }
    },
    {
      "cell_type": "code",
      "source": [
        "pl.hist(m31[\"Rotation\"], bins = 55);\n",
        "pl.xlabel(\"uncertainty in dist\")\n",
        "pl.ylabel(\"quantity\")\n",
        "pl.title(\"Figure 4\")"
      ],
      "metadata": {
        "colab": {
          "base_uri": "https://localhost:8080/",
          "height": 489
        },
        "id": "L1HkINV6zS6t",
        "outputId": "9c08450b-8c93-4bef-e566-a690d51e5e55"
      },
      "execution_count": 211,
      "outputs": [
        {
          "output_type": "execute_result",
          "data": {
            "text/plain": [
              "Text(0.5, 1.0, 'Figure 1')"
            ]
          },
          "metadata": {},
          "execution_count": 211
        },
        {
          "output_type": "display_data",
          "data": {
            "text/plain": [
              "<Figure size 640x480 with 1 Axes>"
            ],
            "image/png": "[encoded data removed]"
          },
          "metadata": {}
        }
      ]
    },
    {
      "cell_type": "markdown",
      "source": [
        "This plot is measuring the uncertainty in the measurement of the distance measured. It shows that lower uncertainties are fairly common, whereas larger ones not so much."
      ],
      "metadata": {
        "id": "qDkuwJf_92GM"
      }
    },
    {
      "cell_type": "markdown",
      "metadata": {
        "run_control": {
          "frozen": false,
          "read_only": false
        },
        "id": "Vv0Ut6vOOdCk"
      },
      "source": [
        "from https://en.wikipedia.org/wiki/Andromeda_Galaxy get the extent of the luminous component of M31 (Andromeda). The distance of the Galaxy multiplied by the angular size will give you this information from basic trigonometry (make sure you convert the units properly, using astropy). Make sure you include the uncertainties! uncertainties in the distance will give you the uncertainty in the size\n",
        "\n",
        "Assume the distance is 778 $\\pm$ 33 kpc\n",
        "   "
      ]
    },
    {
      "cell_type": "code",
      "metadata": {
        "id": "kvIFr6D778ri"
      },
      "source": [
        "apparentSizeM31 = 3.16"
      ],
      "execution_count": 194,
      "outputs": []
    },
    {
      "cell_type": "code",
      "metadata": {
        "ExecuteTime": {
          "end_time": "2019-08-02T01:35:41.413407Z",
          "start_time": "2019-08-02T01:35:41.408764Z"
        },
        "run_control": {
          "frozen": false,
          "read_only": false
        },
        "id": "tzGNh98hOdCl",
        "colab": {
          "base_uri": "https://localhost:8080/"
        },
        "outputId": "5a700d85-dc55-4e35-bda5-f623d796213e"
      },
      "source": [
        "# note : by PEP8 standards the import should be at the top, I leave it here for hyou to see that I am using astropy.units now for visibility. Please move it to the top cell\n",
        "\n",
        "m31angS = apparentSizeM31 * u.degree\n",
        "print(\"Angular Size of the visible component of Andromeda: {:.2f}\".format(m31angS.to(u.rad)  ))"
      ],
      "execution_count": 195,
      "outputs": [
        {
          "output_type": "stream",
          "name": "stdout",
          "text": [
            "Angular Size of the visible component of Andromeda: 0.06 rad\n"
          ]
        }
      ]
    },
    {
      "cell_type": "markdown",
      "metadata": {
        "id": "cOw0Y4KNWTOZ"
      },
      "source": [
        "Please make sure you print a sensible number of decimal digits! you have a  number of significant digits set by the number of digit in the info you get from wikipedia and me"
      ]
    },
    {
      "cell_type": "markdown",
      "metadata": {
        "id": "hF2wXZ988QgS"
      },
      "source": [
        "The distance, from Wikipedia, will have an uncertainty. Convert both to kiloparsecs Kpc"
      ]
    },
    {
      "cell_type": "code",
      "metadata": {
        "ExecuteTime": {
          "end_time": "2019-08-02T01:35:42.257553Z",
          "start_time": "2019-08-02T01:35:42.254539Z"
        },
        "run_control": {
          "frozen": false,
          "read_only": false
        },
        "id": "7-nEP6KrOdCo"
      },
      "source": [
        "m31distance = 778 * u.kpc\n",
        "m31distance_error = 33 * u.kpc\n"
      ],
      "execution_count": 196,
      "outputs": []
    },
    {
      "cell_type": "markdown",
      "metadata": {
        "id": "_pTXgdTL8jv6"
      },
      "source": [
        "Calculate and print the distance like I printed the angular size.\n",
        "\n",
        "To get the physical size of the visible component of Andromeda you can use simple trigonometry: $y = r * sin(\\alpha) ~ \\sim ~ r \\alpha $ for small angles\n",
        "\n",
        "\n",
        "Print the physical size of the Andromeda galaxy (remember decimal digits, proper formatting etc etc).\n"
      ]
    },
    {
      "cell_type": "code",
      "metadata": {
        "ExecuteTime": {
          "end_time": "2019-08-02T01:35:42.815232Z",
          "start_time": "2019-08-02T01:35:42.810316Z"
        },
        "run_control": {
          "frozen": false,
          "read_only": false
        },
        "id": "0y_V9AuFOdCv",
        "colab": {
          "base_uri": "https://localhost:8080/"
        },
        "outputId": "a99db40d-140a-4b12-acc5-5cedacd08858"
      },
      "source": [
        "rad = m31angS.to(u.rad)\n",
        "m31Size =  m31distance*rad.value\n",
        "m31SizeError = np.absolute(m31distance_error*rad.value) * np.sqrt((m31distance_error**2)/(m31distance**2))\n",
        "print(\"Size of the visible component of Andromeda: \" +\n",
        "      r\"{:.0f} +/- {:2.1f}\".format(m31Size, m31SizeError))#, m31SizeError\n"
      ],
      "execution_count": 197,
      "outputs": [
        {
          "output_type": "stream",
          "name": "stdout",
          "text": [
            "Size of the visible component of Andromeda: 43 kpc +/- 0.1 kpc\n"
          ]
        }
      ]
    },
    {
      "cell_type": "markdown",
      "metadata": {
        "run_control": {
          "frozen": false,
          "read_only": false
        },
        "id": "97o52hRhOdCy"
      },
      "source": [
        "### find the first measurement  in your data table that includes all the luminous mass.\n",
        "\n",
        "What is the smallest radius in your data where the luminous mass is completely included and what is the veolcity at that radius?\n",
        "You can do it by broadcasting (see homework 3)"
      ]
    },
    {
      "cell_type": "code",
      "metadata": {
        "ExecuteTime": {
          "end_time": "2019-08-02T02:10:47.943179Z",
          "start_time": "2019-08-02T02:10:47.937541Z"
        },
        "run_control": {
          "frozen": false,
          "read_only": false
        },
        "id": "JF31dWaBOdCz",
        "colab": {
          "base_uri": "https://localhost:8080/"
        },
        "outputId": "06199b22-a3fb-4c09-bbc1-a22d804c2301"
      },
      "source": [
        "for i in m31.index:\n",
        "  if m31.loc[i, \"#M31\"] >= 43:\n",
        "    print(m31.loc[i, \"#M31\"])\n",
        "    print(m31.loc[i, \"Grand\"])\n",
        "    break\n"
      ],
      "execution_count": 198,
      "outputs": [
        {
          "output_type": "stream",
          "name": "stdout",
          "text": [
            "49.222\n",
            "237.069\n"
          ]
        }
      ]
    },
    {
      "cell_type": "markdown",
      "metadata": {
        "run_control": {
          "frozen": false,
          "read_only": false
        },
        "id": "TVWiU84XOdDA"
      },
      "source": [
        "We expect the velocity to decrease as $1 / \\sqrt{r}$ if all mass is included: the velocity at a radius twice as far as the radius that includes all the mass should be a factor $\\sqrt{2}$ slower, three times as far a factor $\\sqrt{3}$ slower."
      ]
    },
    {
      "cell_type": "markdown",
      "metadata": {
        "id": "b096Ax33SiXl"
      },
      "source": [
        "write a function that\n",
        "\n",
        "1. finds the smallest radius in the dataset that is at least N times the radius of the visible galaxy,\n",
        "\n",
        "2. takes as arguments:\n",
        "    - the data and\n",
        "    - N\n",
        "    - the size of the luminous component of the galaxy\n",
        "\n",
        "2. Returns the value of the radius and its uncertainty and the velocity and its uncertainty"
      ]
    },
    {
      "cell_type": "code",
      "source": [
        "m31"
      ],
      "metadata": {
        "colab": {
          "base_uri": "https://localhost:8080/",
          "height": 1000
        },
        "id": "NMGHM0W6Xnm-",
        "outputId": "0f04f800-49e5-4b9a-8206-c133d599d67e"
      },
      "execution_count": 199,
      "outputs": [
        {
          "output_type": "execute_result",
          "data": {
            "text/plain": [
              "        #M31    Grand  Rotation   Curve     err_tot\n",
              "1      0.100  183.939     0.000   0.000    0.000000\n",
              "2      0.120  190.710    10.265  12.191   15.937086\n",
              "3      0.144  204.141    22.634  21.808   31.430667\n",
              "4      0.173  207.601     4.573   4.200    6.209052\n",
              "5      0.207  210.188     3.943   3.258    5.114862\n",
              "6      0.249  213.512     4.218   3.190    5.288442\n",
              "7      0.299  217.208     3.813   2.623    4.628077\n",
              "8      0.358  219.673     2.181   1.371    2.576122\n",
              "9      0.430  219.357     2.193   1.259    2.528701\n",
              "10     0.516  216.163     3.740   1.961    4.222928\n",
              "11     0.619  213.670    10.942   5.126   12.083180\n",
              "12     0.743  219.492    22.599   8.621   24.187527\n",
              "13     0.892  221.290    30.697  11.225   32.684957\n",
              "14     1.070  235.332    55.712  22.146   59.952250\n",
              "15     1.284  242.833    57.034  23.299   61.609419\n",
              "16     1.541  248.298    52.402  20.013   56.093580\n",
              "17     1.849  252.880    50.568  18.476   53.837582\n",
              "18     2.219  245.013    35.176  12.065   37.187568\n",
              "19     2.662  238.997    16.512   5.510   17.407075\n",
              "20     3.195  236.551     9.233   3.016    9.713112\n",
              "21     3.834  228.432    21.131   5.991   21.963862\n",
              "22     4.601  222.712    30.371   7.494   31.281907\n",
              "23     5.521  229.124    29.037   6.397   29.733297\n",
              "24     6.625  243.192    23.592   5.252   24.169526\n",
              "25     7.950  255.379    18.499   3.929   18.911638\n",
              "26     9.540  261.368    14.674   2.828   14.944024\n",
              "27    11.448  263.490    11.448   2.129   11.644284\n",
              "28    13.737  262.795    10.040   1.772   10.195175\n",
              "29    16.484  257.345    12.162   1.975   12.321318\n",
              "30    19.781  246.140    13.446   1.989   13.592315\n",
              "31    23.738  236.511    11.729   1.580   11.834942\n",
              "32    28.485  232.335    16.577   2.106   16.710241\n",
              "33    34.182  233.530    27.353   3.826   27.619285\n",
              "34    41.019  230.444    52.432   9.815   53.342749\n",
              "35    49.222  237.069   109.381  23.924  111.966785\n",
              "36    59.067  249.443   134.552  26.447  137.126527\n",
              "37    70.880  218.489   132.355  24.657  134.632142\n",
              "38    85.056  206.603   135.003  27.258  137.727298\n",
              "39   102.068  213.002   132.456  29.321  135.662497\n",
              "40   122.481  197.383   105.727  23.358  108.276473\n",
              "41   146.977  177.521    81.762  16.662   83.442477\n",
              "42   176.373  165.325    74.652  15.706   76.286300\n",
              "43   211.647  165.134    76.929  18.733   79.176994\n",
              "44   253.977  160.787    77.400  22.720   80.665720\n",
              "45   304.772  151.102    74.793  27.879   79.819994\n",
              "46   365.727  121.974    96.480  43.431  105.804736\n",
              "47   438.872  168.303   125.736  51.482  135.867355\n",
              "48   526.647  200.545   123.350  52.949  134.234195\n",
              "49   631.976  238.973   147.835  36.195  152.201397\n",
              "50   758.371  248.069   145.005  19.716  146.339232\n",
              "51   910.046  250.377   141.353  22.663  143.158242\n",
              "52  1092.055  241.900   138.657  39.031  144.045766\n",
              "53  1310.466  235.039   103.480  46.508  113.450890\n",
              "54  1572.559  332.734   109.504  54.110  122.143433\n",
              "55  1887.071  414.942    69.579  27.931   74.975849"
            ],
            "text/html": [
              "\n",
              "  <div id=\"df-189be6a5-74c0-463e-b0cf-b71fa44851a0\" class=\"colab-df-container\">\n",
              "    <div>\n",
              "<style scoped>\n",
              "    .dataframe tbody tr th:only-of-type {\n",
              "        vertical-align: middle;\n",
              "    }\n",
              "\n",
              "    .dataframe tbody tr th {\n",
              "        vertical-align: top;\n",
              "    }\n",
              "\n",
              "    .dataframe thead th {\n",
              "        text-align: right;\n",
              "    }\n",
              "</style>\n",
              "<table border=\"1\" class=\"dataframe\">\n",
              "  <thead>\n",
              "    <tr style=\"text-align: right;\">\n",
              "      <th></th>\n",
              "      <th>#M31</th>\n",
              "      <th>Grand</th>\n",
              "      <th>Rotation</th>\n",
              "      <th>Curve</th>\n",
              "      <th>err_tot</th>\n",
              "    </tr>\n",
              "  </thead>\n",
              "  <tbody>\n",
              "    <tr>\n",
              "      <th>1</th>\n",
              "      <td>0.100</td>\n",
              "      <td>183.939</td>\n",
              "      <td>0.000</td>\n",
              "      <td>0.000</td>\n",
              "      <td>0.000000</td>\n",
              "    </tr>\n",
              "    <tr>\n",
              "      <th>2</th>\n",
              "      <td>0.120</td>\n",
              "      <td>190.710</td>\n",
              "      <td>10.265</td>\n",
              "      <td>12.191</td>\n",
              "      <td>15.937086</td>\n",
              "    </tr>\n",
              "    <tr>\n",
              "      <th>3</th>\n",
              "      <td>0.144</td>\n",
              "      <td>204.141</td>\n",
              "      <td>22.634</td>\n",
              "      <td>21.808</td>\n",
              "      <td>31.430667</td>\n",
              "    </tr>\n",
              "    <tr>\n",
              "      <th>4</th>\n",
              "      <td>0.173</td>\n",
              "      <td>207.601</td>\n",
              "      <td>4.573</td>\n",
              "      <td>4.200</td>\n",
              "      <td>6.209052</td>\n",
              "    </tr>\n",
              "    <tr>\n",
              "      <th>5</th>\n",
              "      <td>0.207</td>\n",
              "      <td>210.188</td>\n",
              "      <td>3.943</td>\n",
              "      <td>3.258</td>\n",
              "      <td>5.114862</td>\n",
              "    </tr>\n",
              "    <tr>\n",
              "      <th>6</th>\n",
              "      <td>0.249</td>\n",
              "      <td>213.512</td>\n",
              "      <td>4.218</td>\n",
              "      <td>3.190</td>\n",
              "      <td>5.288442</td>\n",
              "    </tr>\n",
              "    <tr>\n",
              "      <th>7</th>\n",
              "      <td>0.299</td>\n",
              "      <td>217.208</td>\n",
              "      <td>3.813</td>\n",
              "      <td>2.623</td>\n",
              "      <td>4.628077</td>\n",
              "    </tr>\n",
              "    <tr>\n",
              "      <th>8</th>\n",
              "      <td>0.358</td>\n",
              "      <td>219.673</td>\n",
              "      <td>2.181</td>\n",
              "      <td>1.371</td>\n",
              "      <td>2.576122</td>\n",
              "    </tr>\n",
              "    <tr>\n",
              "      <th>9</th>\n",
              "      <td>0.430</td>\n",
              "      <td>219.357</td>\n",
              "      <td>2.193</td>\n",
              "      <td>1.259</td>\n",
              "      <td>2.528701</td>\n",
              "    </tr>\n",
              "    <tr>\n",
              "      <th>10</th>\n",
              "      <td>0.516</td>\n",
              "      <td>216.163</td>\n",
              "      <td>3.740</td>\n",
              "      <td>1.961</td>\n",
              "      <td>4.222928</td>\n",
              "    </tr>\n",
              "    <tr>\n",
              "      <th>11</th>\n",
              "      <td>0.619</td>\n",
              "      <td>213.670</td>\n",
              "      <td>10.942</td>\n",
              "      <td>5.126</td>\n",
              "      <td>12.083180</td>\n",
              "    </tr>\n",
              "    <tr>\n",
              "      <th>12</th>\n",
              "      <td>0.743</td>\n",
              "      <td>219.492</td>\n",
              "      <td>22.599</td>\n",
              "      <td>8.621</td>\n",
              "      <td>24.187527</td>\n",
              "    </tr>\n",
              "    <tr>\n",
              "      <th>13</th>\n",
              "      <td>0.892</td>\n",
              "      <td>221.290</td>\n",
              "      <td>30.697</td>\n",
              "      <td>11.225</td>\n",
              "      <td>32.684957</td>\n",
              "    </tr>\n",
              "    <tr>\n",
              "      <th>14</th>\n",
              "      <td>1.070</td>\n",
              "      <td>235.332</td>\n",
              "      <td>55.712</td>\n",
              "      <td>22.146</td>\n",
              "      <td>59.952250</td>\n",
              "    </tr>\n",
              "    <tr>\n",
              "      <th>15</th>\n",
              "      <td>1.284</td>\n",
              "      <td>242.833</td>\n",
              "      <td>57.034</td>\n",
              "      <td>23.299</td>\n",
              "      <td>61.609419</td>\n",
              "    </tr>\n",
              "    <tr>\n",
              "      <th>16</th>\n",
              "      <td>1.541</td>\n",
              "      <td>248.298</td>\n",
              "      <td>52.402</td>\n",
              "      <td>20.013</td>\n",
              "      <td>56.093580</td>\n",
              "    </tr>\n",
              "    <tr>\n",
              "      <th>17</th>\n",
              "      <td>1.849</td>\n",
              "      <td>252.880</td>\n",
              "      <td>50.568</td>\n",
              "      <td>18.476</td>\n",
              "      <td>53.837582</td>\n",
              "    </tr>\n",
              "    <tr>\n",
              "      <th>18</th>\n",
              "      <td>2.219</td>\n",
              "      <td>245.013</td>\n",
              "      <td>35.176</td>\n",
              "      <td>12.065</td>\n",
              "      <td>37.187568</td>\n",
              "    </tr>\n",
              "    <tr>\n",
              "      <th>19</th>\n",
              "      <td>2.662</td>\n",
              "      <td>238.997</td>\n",
              "      <td>16.512</td>\n",
              "      <td>5.510</td>\n",
              "      <td>17.407075</td>\n",
              "    </tr>\n",
              "    <tr>\n",
              "      <th>20</th>\n",
              "      <td>3.195</td>\n",
              "      <td>236.551</td>\n",
              "      <td>9.233</td>\n",
              "      <td>3.016</td>\n",
              "      <td>9.713112</td>\n",
              "    </tr>\n",
              "    <tr>\n",
              "      <th>21</th>\n",
              "      <td>3.834</td>\n",
              "      <td>228.432</td>\n",
              "      <td>21.131</td>\n",
              "      <td>5.991</td>\n",
              "      <td>21.963862</td>\n",
              "    </tr>\n",
              "    <tr>\n",
              "      <th>22</th>\n",
              "      <td>4.601</td>\n",
              "      <td>222.712</td>\n",
              "      <td>30.371</td>\n",
              "      <td>7.494</td>\n",
              "      <td>31.281907</td>\n",
              "    </tr>\n",
              "    <tr>\n",
              "      <th>23</th>\n",
              "      <td>5.521</td>\n",
              "      <td>229.124</td>\n",
              "      <td>29.037</td>\n",
              "      <td>6.397</td>\n",
              "      <td>29.733297</td>\n",
              "    </tr>\n",
              "    <tr>\n",
              "      <th>24</th>\n",
              "      <td>6.625</td>\n",
              "      <td>243.192</td>\n",
              "      <td>23.592</td>\n",
              "      <td>5.252</td>\n",
              "      <td>24.169526</td>\n",
              "    </tr>\n",
              "    <tr>\n",
              "      <th>25</th>\n",
              "      <td>7.950</td>\n",
              "      <td>255.379</td>\n",
              "      <td>18.499</td>\n",
              "      <td>3.929</td>\n",
              "      <td>18.911638</td>\n",
              "    </tr>\n",
              "    <tr>\n",
              "      <th>26</th>\n",
              "      <td>9.540</td>\n",
              "      <td>261.368</td>\n",
              "      <td>14.674</td>\n",
              "      <td>2.828</td>\n",
              "      <td>14.944024</td>\n",
              "    </tr>\n",
              "    <tr>\n",
              "      <th>27</th>\n",
              "      <td>11.448</td>\n",
              "      <td>263.490</td>\n",
              "      <td>11.448</td>\n",
              "      <td>2.129</td>\n",
              "      <td>11.644284</td>\n",
              "    </tr>\n",
              "    <tr>\n",
              "      <th>28</th>\n",
              "      <td>13.737</td>\n",
              "      <td>262.795</td>\n",
              "      <td>10.040</td>\n",
              "      <td>1.772</td>\n",
              "      <td>10.195175</td>\n",
              "    </tr>\n",
              "    <tr>\n",
              "      <th>29</th>\n",
              "      <td>16.484</td>\n",
              "      <td>257.345</td>\n",
              "      <td>12.162</td>\n",
              "      <td>1.975</td>\n",
              "      <td>12.321318</td>\n",
              "    </tr>\n",
              "    <tr>\n",
              "      <th>30</th>\n",
              "      <td>19.781</td>\n",
              "      <td>246.140</td>\n",
              "      <td>13.446</td>\n",
              "      <td>1.989</td>\n",
              "      <td>13.592315</td>\n",
              "    </tr>\n",
              "    <tr>\n",
              "      <th>31</th>\n",
              "      <td>23.738</td>\n",
              "      <td>236.511</td>\n",
              "      <td>11.729</td>\n",
              "      <td>1.580</td>\n",
              "      <td>11.834942</td>\n",
              "    </tr>\n",
              "    <tr>\n",
              "      <th>32</th>\n",
              "      <td>28.485</td>\n",
              "      <td>232.335</td>\n",
              "      <td>16.577</td>\n",
              "      <td>2.106</td>\n",
              "      <td>16.710241</td>\n",
              "    </tr>\n",
              "    <tr>\n",
              "      <th>33</th>\n",
              "      <td>34.182</td>\n",
              "      <td>233.530</td>\n",
              "      <td>27.353</td>\n",
              "      <td>3.826</td>\n",
              "      <td>27.619285</td>\n",
              "    </tr>\n",
              "    <tr>\n",
              "      <th>34</th>\n",
              "      <td>41.019</td>\n",
              "      <td>230.444</td>\n",
              "      <td>52.432</td>\n",
              "      <td>9.815</td>\n",
              "      <td>53.342749</td>\n",
              "    </tr>\n",
              "    <tr>\n",
              "      <th>35</th>\n",
              "      <td>49.222</td>\n",
              "      <td>237.069</td>\n",
              "      <td>109.381</td>\n",
              "      <td>23.924</td>\n",
              "      <td>111.966785</td>\n",
              "    </tr>\n",
              "    <tr>\n",
              "      <th>36</th>\n",
              "      <td>59.067</td>\n",
              "      <td>249.443</td>\n",
              "      <td>134.552</td>\n",
              "      <td>26.447</td>\n",
              "      <td>137.126527</td>\n",
              "    </tr>\n",
              "    <tr>\n",
              "      <th>37</th>\n",
              "      <td>70.880</td>\n",
              "      <td>218.489</td>\n",
              "      <td>132.355</td>\n",
              "      <td>24.657</td>\n",
              "      <td>134.632142</td>\n",
              "    </tr>\n",
              "    <tr>\n",
              "      <th>38</th>\n",
              "      <td>85.056</td>\n",
              "      <td>206.603</td>\n",
              "      <td>135.003</td>\n",
              "      <td>27.258</td>\n",
              "      <td>137.727298</td>\n",
              "    </tr>\n",
              "    <tr>\n",
              "      <th>39</th>\n",
              "      <td>102.068</td>\n",
              "      <td>213.002</td>\n",
              "      <td>132.456</td>\n",
              "      <td>29.321</td>\n",
              "      <td>135.662497</td>\n",
              "    </tr>\n",
              "    <tr>\n",
              "      <th>40</th>\n",
              "      <td>122.481</td>\n",
              "      <td>197.383</td>\n",
              "      <td>105.727</td>\n",
              "      <td>23.358</td>\n",
              "      <td>108.276473</td>\n",
              "    </tr>\n",
              "    <tr>\n",
              "      <th>41</th>\n",
              "      <td>146.977</td>\n",
              "      <td>177.521</td>\n",
              "      <td>81.762</td>\n",
              "      <td>16.662</td>\n",
              "      <td>83.442477</td>\n",
              "    </tr>\n",
              "    <tr>\n",
              "      <th>42</th>\n",
              "      <td>176.373</td>\n",
              "      <td>165.325</td>\n",
              "      <td>74.652</td>\n",
              "      <td>15.706</td>\n",
              "      <td>76.286300</td>\n",
              "    </tr>\n",
              "    <tr>\n",
              "      <th>43</th>\n",
              "      <td>211.647</td>\n",
              "      <td>165.134</td>\n",
              "      <td>76.929</td>\n",
              "      <td>18.733</td>\n",
              "      <td>79.176994</td>\n",
              "    </tr>\n",
              "    <tr>\n",
              "      <th>44</th>\n",
              "      <td>253.977</td>\n",
              "      <td>160.787</td>\n",
              "      <td>77.400</td>\n",
              "      <td>22.720</td>\n",
              "      <td>80.665720</td>\n",
              "    </tr>\n",
              "    <tr>\n",
              "      <th>45</th>\n",
              "      <td>304.772</td>\n",
              "      <td>151.102</td>\n",
              "      <td>74.793</td>\n",
              "      <td>27.879</td>\n",
              "      <td>79.819994</td>\n",
              "    </tr>\n",
              "    <tr>\n",
              "      <th>46</th>\n",
              "      <td>365.727</td>\n",
              "      <td>121.974</td>\n",
              "      <td>96.480</td>\n",
              "      <td>43.431</td>\n",
              "      <td>105.804736</td>\n",
              "    </tr>\n",
              "    <tr>\n",
              "      <th>47</th>\n",
              "      <td>438.872</td>\n",
              "      <td>168.303</td>\n",
              "      <td>125.736</td>\n",
              "      <td>51.482</td>\n",
              "      <td>135.867355</td>\n",
              "    </tr>\n",
              "    <tr>\n",
              "      <th>48</th>\n",
              "      <td>526.647</td>\n",
              "      <td>200.545</td>\n",
              "      <td>123.350</td>\n",
              "      <td>52.949</td>\n",
              "      <td>134.234195</td>\n",
              "    </tr>\n",
              "    <tr>\n",
              "      <th>49</th>\n",
              "      <td>631.976</td>\n",
              "      <td>238.973</td>\n",
              "      <td>147.835</td>\n",
              "      <td>36.195</td>\n",
              "      <td>152.201397</td>\n",
              "    </tr>\n",
              "    <tr>\n",
              "      <th>50</th>\n",
              "      <td>758.371</td>\n",
              "      <td>248.069</td>\n",
              "      <td>145.005</td>\n",
              "      <td>19.716</td>\n",
              "      <td>146.339232</td>\n",
              "    </tr>\n",
              "    <tr>\n",
              "      <th>51</th>\n",
              "      <td>910.046</td>\n",
              "      <td>250.377</td>\n",
              "      <td>141.353</td>\n",
              "      <td>22.663</td>\n",
              "      <td>143.158242</td>\n",
              "    </tr>\n",
              "    <tr>\n",
              "      <th>52</th>\n",
              "      <td>1092.055</td>\n",
              "      <td>241.900</td>\n",
              "      <td>138.657</td>\n",
              "      <td>39.031</td>\n",
              "      <td>144.045766</td>\n",
              "    </tr>\n",
              "    <tr>\n",
              "      <th>53</th>\n",
              "      <td>1310.466</td>\n",
              "      <td>235.039</td>\n",
              "      <td>103.480</td>\n",
              "      <td>46.508</td>\n",
              "      <td>113.450890</td>\n",
              "    </tr>\n",
              "    <tr>\n",
              "      <th>54</th>\n",
              "      <td>1572.559</td>\n",
              "      <td>332.734</td>\n",
              "      <td>109.504</td>\n",
              "      <td>54.110</td>\n",
              "      <td>122.143433</td>\n",
              "    </tr>\n",
              "    <tr>\n",
              "      <th>55</th>\n",
              "      <td>1887.071</td>\n",
              "      <td>414.942</td>\n",
              "      <td>69.579</td>\n",
              "      <td>27.931</td>\n",
              "      <td>74.975849</td>\n",
              "    </tr>\n",
              "  </tbody>\n",
              "</table>\n",
              "</div>\n",
              "    <div class=\"colab-df-buttons\">\n",
              "\n",
              "  <div class=\"colab-df-container\">\n",
              "    <button class=\"colab-df-convert\" onclick=\"convertToInteractive('df-189be6a5-74c0-463e-b0cf-b71fa44851a0')\"\n",
              "            title=\"Convert this dataframe to an interactive table.\"\n",
              "            style=\"display:none;\">\n",
              "\n",
              "  <svg xmlns=\"http://www.w3.org/2000/svg\" height=\"24px\" viewBox=\"0 -960 960 960\">\n",
              "    <path d=\"M120-120v-720h720v720H120Zm60-500h600v-160H180v160Zm220 220h160v-160H400v160Zm0 220h160v-160H400v160ZM180-400h160v-160H180v160Zm440 0h160v-160H620v160ZM180-180h160v-160H180v160Zm440 0h160v-160H620v160Z\"/>\n",
              "  </svg>\n",
              "    </button>\n",
              "\n",
              "  <style>\n",
              "    .colab-df-container {\n",
              "      display:flex;\n",
              "      gap: 12px;\n",
              "    }\n",
              "\n",
              "    .colab-df-convert {\n",
              "      background-color: #E8F0FE;\n",
              "      border: none;\n",
              "      border-radius: 50%;\n",
              "      cursor: pointer;\n",
              "      display: none;\n",
              "      fill: #1967D2;\n",
              "      height: 32px;\n",
              "      padding: 0 0 0 0;\n",
              "      width: 32px;\n",
              "    }\n",
              "\n",
              "    .colab-df-convert:hover {\n",
              "      background-color: #E2EBFA;\n",
              "      box-shadow: 0px 1px 2px rgba(60, 64, 67, 0.3), 0px 1px 3px 1px rgba(60, 64, 67, 0.15);\n",
              "      fill: #174EA6;\n",
              "    }\n",
              "\n",
              "    .colab-df-buttons div {\n",
              "      margin-bottom: 4px;\n",
              "    }\n",
              "\n",
              "    [theme=dark] .colab-df-convert {\n",
              "      background-color: #3B4455;\n",
              "      fill: #D2E3FC;\n",
              "    }\n",
              "\n",
              "    [theme=dark] .colab-df-convert:hover {\n",
              "      background-color: #434B5C;\n",
              "      box-shadow: 0px 1px 3px 1px rgba(0, 0, 0, 0.15);\n",
              "      filter: drop-shadow(0px 1px 2px rgba(0, 0, 0, 0.3));\n",
              "      fill: #FFFFFF;\n",
              "    }\n",
              "  </style>\n",
              "\n",
              "    <script>\n",
              "      const buttonEl =\n",
              "        document.querySelector('#df-189be6a5-74c0-463e-b0cf-b71fa44851a0 button.colab-df-convert');\n",
              "      buttonEl.style.display =\n",
              "        google.colab.kernel.accessAllowed ? 'block' : 'none';\n",
              "\n",
              "      async function convertToInteractive(key) {\n",
              "        const element = document.querySelector('#df-189be6a5-74c0-463e-b0cf-b71fa44851a0');\n",
              "        const dataTable =\n",
              "          await google.colab.kernel.invokeFunction('convertToInteractive',\n",
              "                                                    [key], {});\n",
              "        if (!dataTable) return;\n",
              "\n",
              "        const docLinkHtml = 'Like what you see? Visit the ' +\n",
              "          '<a target=\"_blank\" href=https://colab.research.google.com/notebooks/data_table.ipynb>data table notebook</a>'\n",
              "          + ' to learn more about interactive tables.';\n",
              "        element.innerHTML = '';\n",
              "        dataTable['output_type'] = 'display_data';\n",
              "        await google.colab.output.renderOutput(dataTable, element);\n",
              "        const docLink = document.createElement('div');\n",
              "        docLink.innerHTML = docLinkHtml;\n",
              "        element.appendChild(docLink);\n",
              "      }\n",
              "    </script>\n",
              "  </div>\n",
              "\n",
              "\n",
              "    <div id=\"df-06ca3899-7631-4fc7-a5c5-7ec5637712a6\">\n",
              "      <button class=\"colab-df-quickchart\" onclick=\"quickchart('df-06ca3899-7631-4fc7-a5c5-7ec5637712a6')\"\n",
              "                title=\"Suggest charts\"\n",
              "                style=\"display:none;\">\n",
              "\n",
              "<svg xmlns=\"http://www.w3.org/2000/svg\" height=\"24px\"viewBox=\"0 0 24 24\"\n",
              "     width=\"24px\">\n",
              "    <g>\n",
              "        <path d=\"M19 3H5c-1.1 0-2 .9-2 2v14c0 1.1.9 2 2 2h14c1.1 0 2-.9 2-2V5c0-1.1-.9-2-2-2zM9 17H7v-7h2v7zm4 0h-2V7h2v10zm4 0h-2v-4h2v4z\"/>\n",
              "    </g>\n",
              "</svg>\n",
              "      </button>\n",
              "\n",
              "<style>\n",
              "  .colab-df-quickchart {\n",
              "      --bg-color: #E8F0FE;\n",
              "      --fill-color: #1967D2;\n",
              "      --hover-bg-color: #E2EBFA;\n",
              "      --hover-fill-color: #174EA6;\n",
              "      --disabled-fill-color: #AAA;\n",
              "      --disabled-bg-color: #DDD;\n",
              "  }\n",
              "\n",
              "  [theme=dark] .colab-df-quickchart {\n",
              "      --bg-color: #3B4455;\n",
              "      --fill-color: #D2E3FC;\n",
              "      --hover-bg-color: #434B5C;\n",
              "      --hover-fill-color: #FFFFFF;\n",
              "      --disabled-bg-color: #3B4455;\n",
              "      --disabled-fill-color: #666;\n",
              "  }\n",
              "\n",
              "  .colab-df-quickchart {\n",
              "    background-color: var(--bg-color);\n",
              "    border: none;\n",
              "    border-radius: 50%;\n",
              "    cursor: pointer;\n",
              "    display: none;\n",
              "    fill: var(--fill-color);\n",
              "    height: 32px;\n",
              "    padding: 0;\n",
              "    width: 32px;\n",
              "  }\n",
              "\n",
              "  .colab-df-quickchart:hover {\n",
              "    background-color: var(--hover-bg-color);\n",
              "    box-shadow: 0 1px 2px rgba(60, 64, 67, 0.3), 0 1px 3px 1px rgba(60, 64, 67, 0.15);\n",
              "    fill: var(--button-hover-fill-color);\n",
              "  }\n",
              "\n",
              "  .colab-df-quickchart-complete:disabled,\n",
              "  .colab-df-quickchart-complete:disabled:hover {\n",
              "    background-color: var(--disabled-bg-color);\n",
              "    fill: var(--disabled-fill-color);\n",
              "    box-shadow: none;\n",
              "  }\n",
              "\n",
              "  .colab-df-spinner {\n",
              "    border: 2px solid var(--fill-color);\n",
              "    border-color: transparent;\n",
              "    border-bottom-color: var(--fill-color);\n",
              "    animation:\n",
              "      spin 1s steps(1) infinite;\n",
              "  }\n",
              "\n",
              "  @keyframes spin {\n",
              "    0% {\n",
              "      border-color: transparent;\n",
              "      border-bottom-color: var(--fill-color);\n",
              "      border-left-color: var(--fill-color);\n",
              "    }\n",
              "    20% {\n",
              "      border-color: transparent;\n",
              "      border-left-color: var(--fill-color);\n",
              "      border-top-color: var(--fill-color);\n",
              "    }\n",
              "    30% {\n",
              "      border-color: transparent;\n",
              "      border-left-color: var(--fill-color);\n",
              "      border-top-color: var(--fill-color);\n",
              "      border-right-color: var(--fill-color);\n",
              "    }\n",
              "    40% {\n",
              "      border-color: transparent;\n",
              "      border-right-color: var(--fill-color);\n",
              "      border-top-color: var(--fill-color);\n",
              "    }\n",
              "    60% {\n",
              "      border-color: transparent;\n",
              "      border-right-color: var(--fill-color);\n",
              "    }\n",
              "    80% {\n",
              "      border-color: transparent;\n",
              "      border-right-color: var(--fill-color);\n",
              "      border-bottom-color: var(--fill-color);\n",
              "    }\n",
              "    90% {\n",
              "      border-color: transparent;\n",
              "      border-bottom-color: var(--fill-color);\n",
              "    }\n",
              "  }\n",
              "</style>\n",
              "\n",
              "      <script>\n",
              "        async function quickchart(key) {\n",
              "          const quickchartButtonEl =\n",
              "            document.querySelector('#' + key + ' button');\n",
              "          quickchartButtonEl.disabled = true;  // To prevent multiple clicks.\n",
              "          quickchartButtonEl.classList.add('colab-df-spinner');\n",
              "          try {\n",
              "            const charts = await google.colab.kernel.invokeFunction(\n",
              "                'suggestCharts', [key], {});\n",
              "          } catch (error) {\n",
              "            console.error('Error during call to suggestCharts:', error);\n",
              "          }\n",
              "          quickchartButtonEl.classList.remove('colab-df-spinner');\n",
              "          quickchartButtonEl.classList.add('colab-df-quickchart-complete');\n",
              "        }\n",
              "        (() => {\n",
              "          let quickchartButtonEl =\n",
              "            document.querySelector('#df-06ca3899-7631-4fc7-a5c5-7ec5637712a6 button');\n",
              "          quickchartButtonEl.style.display =\n",
              "            google.colab.kernel.accessAllowed ? 'block' : 'none';\n",
              "        })();\n",
              "      </script>\n",
              "    </div>\n",
              "\n",
              "  <div id=\"id_6bd64746-72d0-4745-91d8-701dca83b0ca\">\n",
              "    <style>\n",
              "      .colab-df-generate {\n",
              "        background-color: #E8F0FE;\n",
              "        border: none;\n",
              "        border-radius: 50%;\n",
              "        cursor: pointer;\n",
              "        display: none;\n",
              "        fill: #1967D2;\n",
              "        height: 32px;\n",
              "        padding: 0 0 0 0;\n",
              "        width: 32px;\n",
              "      }\n",
              "\n",
              "      .colab-df-generate:hover {\n",
              "        background-color: #E2EBFA;\n",
              "        box-shadow: 0px 1px 2px rgba(60, 64, 67, 0.3), 0px 1px 3px 1px rgba(60, 64, 67, 0.15);\n",
              "        fill: #174EA6;\n",
              "      }\n",
              "\n",
              "      [theme=dark] .colab-df-generate {\n",
              "        background-color: #3B4455;\n",
              "        fill: #D2E3FC;\n",
              "      }\n",
              "\n",
              "      [theme=dark] .colab-df-generate:hover {\n",
              "        background-color: #434B5C;\n",
              "        box-shadow: 0px 1px 3px 1px rgba(0, 0, 0, 0.15);\n",
              "        filter: drop-shadow(0px 1px 2px rgba(0, 0, 0, 0.3));\n",
              "        fill: #FFFFFF;\n",
              "      }\n",
              "    </style>\n",
              "    <button class=\"colab-df-generate\" onclick=\"generateWithVariable('m31')\"\n",
              "            title=\"Generate code using this dataframe.\"\n",
              "            style=\"display:none;\">\n",
              "\n",
              "  <svg xmlns=\"http://www.w3.org/2000/svg\" height=\"24px\"viewBox=\"0 0 24 24\"\n",
              "       width=\"24px\">\n",
              "    <path d=\"M7,19H8.4L18.45,9,17,7.55,7,17.6ZM5,21V16.75L18.45,3.32a2,2,0,0,1,2.83,0l1.4,1.43a1.91,1.91,0,0,1,.58,1.4,1.91,1.91,0,0,1-.58,1.4L9.25,21ZM18.45,9,17,7.55Zm-12,3A5.31,5.31,0,0,0,4.9,8.1,5.31,5.31,0,0,0,1,6.5,5.31,5.31,0,0,0,4.9,4.9,5.31,5.31,0,0,0,6.5,1,5.31,5.31,0,0,0,8.1,4.9,5.31,5.31,0,0,0,12,6.5,5.46,5.46,0,0,0,6.5,12Z\"/>\n",
              "  </svg>\n",
              "    </button>\n",
              "    <script>\n",
              "      (() => {\n",
              "      const buttonEl =\n",
              "        document.querySelector('#id_6bd64746-72d0-4745-91d8-701dca83b0ca button.colab-df-generate');\n",
              "      buttonEl.style.display =\n",
              "        google.colab.kernel.accessAllowed ? 'block' : 'none';\n",
              "\n",
              "      buttonEl.onclick = () => {\n",
              "        google.colab.notebook.generateWithVariable('m31');\n",
              "      }\n",
              "      })();\n",
              "    </script>\n",
              "  </div>\n",
              "\n",
              "    </div>\n",
              "  </div>\n"
            ],
            "application/vnd.google.colaboratory.intrinsic+json": {
              "type": "dataframe",
              "variable_name": "m31",
              "summary": "{\n  \"name\": \"m31\",\n  \"rows\": 55,\n  \"fields\": [\n    {\n      \"column\": \"#M31\",\n      \"properties\": {\n        \"dtype\": \"number\",\n        \"std\": 415.5239040951168,\n        \"min\": 0.1,\n        \"max\": 1887.071,\n        \"num_unique_values\": 55,\n        \"samples\": [\n          28.485,\n          0.249,\n          34.182\n        ],\n        \"semantic_type\": \"\",\n        \"description\": \"\"\n      }\n    },\n    {\n      \"column\": \"Grand\",\n      \"properties\": {\n        \"dtype\": \"number\",\n        \"std\": 42.79989232732137,\n        \"min\": 121.974,\n        \"max\": 414.942,\n        \"num_unique_values\": 55,\n        \"samples\": [\n          232.335,\n          213.512,\n          233.53\n        ],\n        \"semantic_type\": \"\",\n        \"description\": \"\"\n      }\n    },\n    {\n      \"column\": \"Rotation\",\n      \"properties\": {\n        \"dtype\": \"number\",\n        \"std\": 49.25479214102135,\n        \"min\": 0.0,\n        \"max\": 147.835,\n        \"num_unique_values\": 55,\n        \"samples\": [\n          16.577,\n          4.218,\n          27.353\n        ],\n        \"semantic_type\": \"\",\n        \"description\": \"\"\n      }\n    },\n    {\n      \"column\": \"Curve\",\n      \"properties\": {\n        \"dtype\": \"number\",\n        \"std\": 14.876950752158686,\n        \"min\": 0.0,\n        \"max\": 54.11,\n        \"num_unique_values\": 55,\n        \"samples\": [\n          2.106,\n          3.19,\n          3.826\n        ],\n        \"semantic_type\": \"\",\n        \"description\": \"\"\n      }\n    },\n    {\n      \"column\": \"err_tot\",\n      \"properties\": {\n        \"dtype\": \"number\",\n        \"std\": 50.970281870211416,\n        \"min\": 0.0,\n        \"max\": 152.20139700410112,\n        \"num_unique_values\": 55,\n        \"samples\": [\n          16.7102413208188,\n          5.2884424928328375,\n          27.61928465764456\n        ],\n        \"semantic_type\": \"\",\n        \"description\": \"\"\n      }\n    }\n  ]\n}"
            }
          },
          "metadata": {},
          "execution_count": 199
        }
      ]
    },
    {
      "cell_type": "code",
      "metadata": {
        "ExecuteTime": {
          "end_time": "2019-08-02T02:07:26.053511Z",
          "start_time": "2019-08-02T02:07:26.046677Z"
        },
        "run_control": {
          "frozen": false,
          "read_only": false
        },
        "id": "-_O34Bb7OdC2",
        "colab": {
          "base_uri": "https://localhost:8080/"
        },
        "outputId": "460e4087-28a8-4155-8b3c-5c98cd61b778"
      },
      "source": [
        "# first measurement including all mass\n",
        "def getradii(data, N, luminous):\n",
        "  for i in data.index:\n",
        "    if data.loc[i, \"#M31\"] >= N * luminous:\n",
        "      print(data.loc[i, \"#M31\"])\n",
        "      print(data.loc[i, \"Grand\"])\n",
        "      return data.loc[i, \"#M31\"], data.loc[i, \"Curve\"], data.loc[i, \"Grand\"], data.loc[i, \"Rotation\"]\n",
        "      break\n",
        "#I'm assuming here that the uncertainty in wavelength corresponds to the rotational speed and the err error is for the radius\n",
        "m31Rds = 43/2\n",
        "print(m31Rds)"
      ],
      "execution_count": 200,
      "outputs": [
        {
          "output_type": "stream",
          "name": "stdout",
          "text": [
            "21.5\n"
          ]
        }
      ]
    },
    {
      "cell_type": "markdown",
      "metadata": {
        "ExecuteTime": {
          "end_time": "2019-08-01T18:13:58.231637Z",
          "start_time": "2019-08-01T18:13:58.229447Z"
        },
        "run_control": {
          "frozen": false,
          "read_only": false
        },
        "id": "ogu_iquzOdC5"
      },
      "source": [
        "### data visualization"
      ]
    },
    {
      "cell_type": "markdown",
      "metadata": {
        "id": "kJ6MujVJUyel"
      },
      "source": [
        "make a plot that shows\n",
        "\n",
        "1. the rotational curve of the galaxy (as a line) (e.g. with `df.plot(...)` if your data is stored as a dataframe `df`) showing the uncertainty dv at each quantity (if using `df.plot()` you can use the argument `yerr`)\n",
        "\n",
        "2. each velocity as an errorbar with error equal to `err_tot` in three different colors of your choice (not black)\n",
        "\n",
        "3. each velocity as an errorbar with error equal to `dv` in black\n",
        "\n",
        "4. the datapoint corresponding to N=1, 2, 3 each in a different color.\n",
        "\n",
        "5. add a legend that indicates the meaning of each color (```pl.legend()```)\n",
        "\n",
        "6. add a text that indicates the velocity and its uncertainty (dv and err) just below the largest errorbar (```pl.text()``` or ```ax.text()``` if you have an axis object)\n",
        "\n",
        "7. limit the x axis to the \"relevant\" portion of the data"
      ]
    },
    {
      "cell_type": "code",
      "metadata": {
        "ExecuteTime": {
          "end_time": "2019-08-02T03:01:27.556063Z",
          "start_time": "2019-08-02T03:01:27.302184Z"
        },
        "run_control": {
          "frozen": false,
          "read_only": false
        },
        "id": "7IMXYY8BOdC6",
        "colab": {
          "base_uri": "https://localhost:8080/",
          "height": 581
        },
        "outputId": "5deebb3c-cf9a-4948-d1b7-80d4978040de"
      },
      "source": [
        "#delete leave plot\n",
        "def plotGal(gal, rds):\n",
        "    #1\n",
        "    rot_curve = gal.plot(x = '#M31', y = 'Grand', yerr = 'Rotation', label = 'Rotational Curve')\n",
        "    rot_curve.set_xlabel(\"Radius(kpc)\", fontsize=12)\n",
        "    rot_curve.set_ylabel(\"Velocity(km/s)\", fontsize=12)\n",
        "    rot_curve.set_title(\"Grand Rotation Curve\", fontsize=14)\n",
        "\n",
        "    #2\n",
        "    \"\"\"\n",
        "    i = 0\n",
        "    while i < len(gal):\n",
        "      if i == 0:\n",
        "        rot_curve.errorbar(gal.loc[i,'#M31'], gal.loc[i,'Grand'], yerr =  gal.loc[i,'err_tot'], label = 'err_tot 1', color = 'red')\n",
        "      if i == 1:\n",
        "        rot_curve.errorbar(gal.loc[i,'#M31'], gal.loc[i,'Grand'], yerr =  gal.loc[i,'err_tot'], label = 'err_tot 1', color = 'green')\n",
        "      if i == 2:\n",
        "        rot_curve.errorbar(gal.loc[i,'#M31'], gal.loc[i,'Grand'], yerr =  gal.loc[i,'err_tot'], label = 'err_tot 1', color = 'blue')\n",
        "      if i == 3:\n",
        "        i = 0\n",
        "      i += 1\n",
        "      continue\"\"\"\n",
        "\n",
        "    colors = ['red', 'green', 'blue']\n",
        "\n",
        "    for i in gal.index:\n",
        "          color = colors[i % 3]\n",
        "          rot_curve.errorbar(gal.loc[i, '#M31'], gal.loc[i, 'Grand'], yerr = gal.loc[i, 'err_tot'])\n",
        "\n",
        "\n",
        "    #3\n",
        "    rot_curve.errorbar(gal['#M31'], gal['Grand'], yerr =  gal['Rotation'], label = 'dv', color = 'black')\n",
        "\n",
        "    #4\n",
        "\n",
        "    #I was originally confused by what the rds meant in the function here\n",
        "    #I assume that is it the luminous radius\n",
        "    highlight1 = getradii(gal, 1, rds)\n",
        "    rot_curve.plot(highlight1[0], highlight1[2],'o', color = 'purple')\n",
        "    highlight2 = getradii(gal, 2, rds)\n",
        "    rot_curve.plot(highlight2[0], highlight2[2], 'o',color = 'pink')\n",
        "    highlight3 = getradii(gal, 3, rds)\n",
        "    rot_curve.plot(highlight3[0], highlight3[2], 'o',color = 'yellow')\n",
        "    #These highlighted points are very hard to see, but they're there near the y-axis.\n",
        "\n",
        "    #5\n",
        "    rot_curve.legend(loc='lower right')\n",
        "\n",
        "    #6\n",
        "    largest_err_idx = np.argmax(gal['err_tot'])\n",
        "\n",
        "    pl.text(gal['#M31'].loc[largest_err_idx], gal['Grand'].loc[largest_err_idx] + 200, f'v = {gal['Grand'].loc[largest_err_idx]:.1f} ± {gal['Rotation'].iloc[largest_err_idx]:.1f}, err = {gal['Curve'].iloc[largest_err_idx]:.1f}')\n",
        "    #Also hard to determine, but this should be referring to the Cyan one.\n",
        "\n",
        "    #7\n",
        "    rot_curve.set_xlim(rds, gal['#M31'].max())\n",
        "    rot_curve.set_ylim(gal['Grand'].min() - 50, gal['Grand'].max() + 10)\n",
        "plotGal(m31, m31Rds);\n"
      ],
      "execution_count": 201,
      "outputs": [
        {
          "output_type": "stream",
          "name": "stdout",
          "text": [
            "23.738\n",
            "236.511\n",
            "49.222\n",
            "237.069\n",
            "70.88\n",
            "218.489\n"
          ]
        },
        {
          "output_type": "display_data",
          "data": {
            "text/plain": [
              "<Figure size 640x480 with 1 Axes>"
            ],
            "image/png": "[encoded data removed]"
          },
          "metadata": {}
        }
      ]
    },
    {
      "cell_type": "markdown",
      "metadata": {
        "id": "bIbv3YrhTo0X"
      },
      "source": [
        "Write a function that for a given dataset and a given luminous radius and a given N\n",
        "  \n",
        "  1) uses the function above ```getradii``` to find the radius at least as large as needed and the velocity at that radius,\n",
        "  \n",
        "  2) states the expected drop in rotational velocities according to Newton's law $v\\propto 1/\\sqrt{r}$\n",
        "  \n",
        "  3) calculates the ratio of radii and the ratio of velocities at N radii from the center N=1 and N=N (input, e.g. 2, 3 etc) with uncertainties,\n",
        "  \n",
        "  4) and stated whether that ratio is consistent within the uncertainties with Newton's law $v \\propto 1/\\sqrt{r}$\n",
        "  \n",
        "Your function should print\n",
        "\n",
        "     - the expected ratio based on the radii,\n",
        "     - the calculated ratio using ```dv```, and its uncertainty, -\n",
        "     - the 2-$\\sigma$ upper and lower limits of the calculated ratio\n",
        "     - whether the expected ratio is within the $2-\\sigma$ of the calculated ratio,\n",
        "  5) and the same using ```err```  instead of ```dv```"
      ]
    },
    {
      "cell_type": "code",
      "metadata": {
        "ExecuteTime": {
          "end_time": "2019-08-02T02:22:18.485172Z",
          "start_time": "2019-08-02T02:22:18.477807Z"
        },
        "run_control": {
          "frozen": false,
          "read_only": false
        },
        "id": "1hhTw8N4OdDB"
      },
      "source": [
        "#delete\n",
        "def vratios(gal, rds, N, err = 'dv'):\n",
        "  velocity_at = getradii(gal, N, rds)[2]\n",
        "  expected_drop = getradii(gal, 1, rds)[2] / np.sqrt(getradii(gal, N, rds)[0])\n",
        "  calculated_velocity_ratio = getradii(gal, 1, rds)[2] / getradii(gal, N, rds)[2]\n",
        "  expected_ratio_radii = np.sqrt(getradii(gal, 1, rds)[0] / getradii(gal, N, rds)[0])\n",
        "  #if err == 'dv':\n",
        "  unc_1 = getradii(gal, 1, rds)[3]\n",
        "  unc_N = getradii(gal, N, rds)[3]\n",
        "  expected_velo_unc = np.absolute(getradii(gal, 1, rds)[2]/getradii(gal, N, rds)[2]) * np.sqrt((unc_1**2)/(getradii(gal, 1, rds)[2])**2 + (unc_N**2)/(getradii(gal, N, rds)[2])**2)\n",
        "  if err == 'err':\n",
        "    unc_1 = getradii(gal, 1, rds)[1]\n",
        "    unc_N = getradii(gal, N, rds)[1]\n",
        "  expected_rad_unc = np.absolute(getradii(gal, 1, rds)[0]/getradii(gal, N, rds)[0]) * np.sqrt((unc_1**2)/(getradii(gal, 1, rds)[0])**2 + (unc_N**2)/(getradii(gal, N, rds)[0])**2)\n",
        "\n",
        "  sigmaupper_vel = np.absolute(getradii(gal, 1, rds)[2]/getradii(gal, N, rds)[2]) + 2 * np.sqrt((unc_1**2)/(getradii(gal, 1, rds)[2])**2 + (unc_N**2)/(getradii(gal, N, rds)[2])**2)\n",
        "  sigmalower_vel = np.absolute(getradii(gal, 1, rds)[2]/getradii(gal, N, rds)[2]) - 2 * np.sqrt((unc_1**2)/(getradii(gal, 1, rds)[2])**2 + (unc_N**2)/(getradii(gal, N, rds)[2])**2)\n",
        "\n",
        "  sigmaupper_rad = np.absolute(getradii(gal, 1, rds)[0]/getradii(gal, N, rds)[0]) + 2 * np.sqrt((unc_1**2)/(getradii(gal, 1, rds)[0])**2 + (unc_N**2)/(getradii(gal, N, rds)[0])**2)\n",
        "  sigmalower_rad =  np.absolute(getradii(gal, 1, rds)[0]/getradii(gal, N, rds)[0]) - 2* np.sqrt((unc_1**2)/(getradii(gal, 1, rds)[0])**2 + (unc_N**2)/(getradii(gal, N, rds)[0])**2)\n",
        "\n",
        "  test = False\n",
        "  if sigmalower_rad <= expected_rad_unc <= sigmaupper_rad:\n",
        "    test = True\n",
        "  if sigmalower_vel <= expected_velo_unc <= sigmaupper_vel:\n",
        "    test = True\n",
        "\n",
        "\n",
        "  print(\"The expected radius ratio is: \" + str(expected_ratio_radii))\n",
        "  print(\"The calculated velocity ratio is: \" + str(calculated_velocity_ratio) + \" +/- \" + str(expected_velo_unc))\n",
        "  print(\"The 2-sigma upper limit is: \" + str(sigmaupper_vel) + \" +/- \" + str(expected_velo_unc))\n",
        "  print(\"The 2-sigma lower limit is: \" + str(sigmalower_vel) + \" +/- \" + str(expected_velo_unc))\n",
        "  print(\"The expected ratio is within the 2-sigma of the calculated ratio: \" + str(test))"
      ],
      "execution_count": 202,
      "outputs": []
    },
    {
      "cell_type": "code",
      "metadata": {
        "ExecuteTime": {
          "end_time": "2019-08-02T02:22:20.233692Z",
          "start_time": "2019-08-02T02:22:20.225631Z"
        },
        "run_control": {
          "frozen": false,
          "read_only": false
        },
        "id": "8TPkTIthOdDI",
        "colab": {
          "base_uri": "https://localhost:8080/"
        },
        "outputId": "a46d57d2-6987-4ef5-9e2e-94024a33e63f"
      },
      "source": [
        "vratios(m31, m31Rds, 1)\n",
        "\n",
        "vratios(m31, m31Rds, 1, err='err')\n",
        "#The way that I wrote get_radii makes this a mess, but I kept the print() in because I think it helps demonstrate my thought process when writing the code"
      ],
      "execution_count": 203,
      "outputs": [
        {
          "output_type": "stream",
          "name": "stdout",
          "text": [
            "23.738\n",
            "236.511\n",
            "23.738\n",
            "236.511\n",
            "23.738\n",
            "236.511\n",
            "23.738\n",
            "236.511\n",
            "23.738\n",
            "236.511\n",
            "23.738\n",
            "236.511\n",
            "23.738\n",
            "236.511\n",
            "23.738\n",
            "236.511\n",
            "23.738\n",
            "236.511\n",
            "23.738\n",
            "236.511\n",
            "23.738\n",
            "236.511\n",
            "23.738\n",
            "236.511\n",
            "23.738\n",
            "236.511\n",
            "23.738\n",
            "236.511\n",
            "23.738\n",
            "236.511\n",
            "23.738\n",
            "236.511\n",
            "23.738\n",
            "236.511\n",
            "23.738\n",
            "236.511\n",
            "23.738\n",
            "236.511\n",
            "23.738\n",
            "236.511\n",
            "23.738\n",
            "236.511\n",
            "23.738\n",
            "236.511\n",
            "23.738\n",
            "236.511\n",
            "23.738\n",
            "236.511\n",
            "23.738\n",
            "236.511\n",
            "23.738\n",
            "236.511\n",
            "23.738\n",
            "236.511\n",
            "23.738\n",
            "236.511\n",
            "23.738\n",
            "236.511\n",
            "23.738\n",
            "236.511\n",
            "23.738\n",
            "236.511\n",
            "23.738\n",
            "236.511\n",
            "23.738\n",
            "236.511\n",
            "The expected radius ratio is: 1.0\n",
            "The calculated velocity ratio is: 1.0 +/- 0.07013335901109899\n",
            "The 2-sigma upper limit is: 1.140266718022198 +/- 0.07013335901109899\n",
            "The 2-sigma lower limit is: 0.8597332819778021 +/- 0.07013335901109899\n",
            "The expected ratio is within the 2-sigma of the calculated ratio: True\n",
            "23.738\n",
            "236.511\n",
            "23.738\n",
            "236.511\n",
            "23.738\n",
            "236.511\n",
            "23.738\n",
            "236.511\n",
            "23.738\n",
            "236.511\n",
            "23.738\n",
            "236.511\n",
            "23.738\n",
            "236.511\n",
            "23.738\n",
            "236.511\n",
            "23.738\n",
            "236.511\n",
            "23.738\n",
            "236.511\n",
            "23.738\n",
            "236.511\n",
            "23.738\n",
            "236.511\n",
            "23.738\n",
            "236.511\n",
            "23.738\n",
            "236.511\n",
            "23.738\n",
            "236.511\n",
            "23.738\n",
            "236.511\n",
            "23.738\n",
            "236.511\n",
            "23.738\n",
            "236.511\n",
            "23.738\n",
            "236.511\n",
            "23.738\n",
            "236.511\n",
            "23.738\n",
            "236.511\n",
            "23.738\n",
            "236.511\n",
            "23.738\n",
            "236.511\n",
            "23.738\n",
            "236.511\n",
            "23.738\n",
            "236.511\n",
            "23.738\n",
            "236.511\n",
            "23.738\n",
            "236.511\n",
            "23.738\n",
            "236.511\n",
            "23.738\n",
            "236.511\n",
            "23.738\n",
            "236.511\n",
            "23.738\n",
            "236.511\n",
            "23.738\n",
            "236.511\n",
            "23.738\n",
            "236.511\n",
            "23.738\n",
            "236.511\n",
            "23.738\n",
            "236.511\n",
            "The expected radius ratio is: 1.0\n",
            "The calculated velocity ratio is: 1.0 +/- 0.07013335901109899\n",
            "The 2-sigma upper limit is: 1.0188951670624156 +/- 0.07013335901109899\n",
            "The 2-sigma lower limit is: 0.9811048329375844 +/- 0.07013335901109899\n",
            "The expected ratio is within the 2-sigma of the calculated ratio: False\n"
          ]
        }
      ]
    },
    {
      "cell_type": "code",
      "metadata": {
        "ExecuteTime": {
          "end_time": "2019-08-02T02:22:26.272266Z",
          "start_time": "2019-08-02T02:22:26.263760Z"
        },
        "run_control": {
          "frozen": false,
          "read_only": false
        },
        "id": "XeQoBcM7OdDP",
        "colab": {
          "base_uri": "https://localhost:8080/"
        },
        "outputId": "5ac21115-f217-4989-dbe5-a5dc920fdd23"
      },
      "source": [
        "vratios(m31, m31Rds, 2)"
      ],
      "execution_count": 204,
      "outputs": [
        {
          "output_type": "stream",
          "name": "stdout",
          "text": [
            "49.222\n",
            "237.069\n",
            "23.738\n",
            "236.511\n",
            "49.222\n",
            "237.069\n",
            "23.738\n",
            "236.511\n",
            "49.222\n",
            "237.069\n",
            "23.738\n",
            "236.511\n",
            "49.222\n",
            "237.069\n",
            "23.738\n",
            "236.511\n",
            "49.222\n",
            "237.069\n",
            "23.738\n",
            "236.511\n",
            "49.222\n",
            "237.069\n",
            "23.738\n",
            "236.511\n",
            "49.222\n",
            "237.069\n",
            "23.738\n",
            "236.511\n",
            "49.222\n",
            "237.069\n",
            "23.738\n",
            "236.511\n",
            "49.222\n",
            "237.069\n",
            "23.738\n",
            "236.511\n",
            "49.222\n",
            "237.069\n",
            "23.738\n",
            "236.511\n",
            "49.222\n",
            "237.069\n",
            "23.738\n",
            "236.511\n",
            "49.222\n",
            "237.069\n",
            "23.738\n",
            "236.511\n",
            "49.222\n",
            "237.069\n",
            "23.738\n",
            "236.511\n",
            "49.222\n",
            "237.069\n",
            "23.738\n",
            "236.511\n",
            "49.222\n",
            "237.069\n",
            "23.738\n",
            "236.511\n",
            "49.222\n",
            "237.069\n",
            "23.738\n",
            "236.511\n",
            "49.222\n",
            "237.069\n",
            "The expected radius ratio is: 0.6944523225391628\n",
            "The calculated velocity ratio is: 0.9976462548878176 +/- 0.4629541312641718\n",
            "The 2-sigma upper limit is: 1.9257390112049946 +/- 0.4629541312641718\n",
            "The 2-sigma lower limit is: 0.06955349857064053 +/- 0.4629541312641718\n",
            "The expected ratio is within the 2-sigma of the calculated ratio: True\n"
          ]
        }
      ]
    },
    {
      "cell_type": "code",
      "metadata": {
        "ExecuteTime": {
          "end_time": "2019-08-02T02:24:18.604569Z",
          "start_time": "2019-08-02T02:24:18.596278Z"
        },
        "run_control": {
          "frozen": false,
          "read_only": false
        },
        "id": "Stigi9P_OdDW",
        "colab": {
          "base_uri": "https://localhost:8080/"
        },
        "outputId": "6208362a-18bd-4fda-a02c-2f837404da3b"
      },
      "source": [
        "vratios(m31, m31Rds, 2, err='err')"
      ],
      "execution_count": 205,
      "outputs": [
        {
          "output_type": "stream",
          "name": "stdout",
          "text": [
            "49.222\n",
            "237.069\n",
            "23.738\n",
            "236.511\n",
            "49.222\n",
            "237.069\n",
            "23.738\n",
            "236.511\n",
            "49.222\n",
            "237.069\n",
            "23.738\n",
            "236.511\n",
            "49.222\n",
            "237.069\n",
            "23.738\n",
            "236.511\n",
            "49.222\n",
            "237.069\n",
            "23.738\n",
            "236.511\n",
            "49.222\n",
            "237.069\n",
            "23.738\n",
            "236.511\n",
            "49.222\n",
            "237.069\n",
            "23.738\n",
            "236.511\n",
            "49.222\n",
            "237.069\n",
            "23.738\n",
            "236.511\n",
            "49.222\n",
            "237.069\n",
            "23.738\n",
            "236.511\n",
            "49.222\n",
            "237.069\n",
            "23.738\n",
            "236.511\n",
            "49.222\n",
            "237.069\n",
            "23.738\n",
            "236.511\n",
            "49.222\n",
            "237.069\n",
            "23.738\n",
            "236.511\n",
            "49.222\n",
            "237.069\n",
            "23.738\n",
            "236.511\n",
            "49.222\n",
            "237.069\n",
            "23.738\n",
            "236.511\n",
            "49.222\n",
            "237.069\n",
            "23.738\n",
            "236.511\n",
            "49.222\n",
            "237.069\n",
            "23.738\n",
            "236.511\n",
            "49.222\n",
            "237.069\n",
            "23.738\n",
            "236.511\n",
            "49.222\n",
            "237.069\n",
            "The expected radius ratio is: 0.6944523225391628\n",
            "The calculated velocity ratio is: 0.9976462548878176 +/- 0.4629541312641718\n",
            "The 2-sigma upper limit is: 1.1999195400704967 +/- 0.4629541312641718\n",
            "The 2-sigma lower limit is: 0.7953729697051384 +/- 0.4629541312641718\n",
            "The expected ratio is within the 2-sigma of the calculated ratio: True\n"
          ]
        }
      ]
    },
    {
      "cell_type": "markdown",
      "metadata": {
        "ExecuteTime": {
          "end_time": "2019-08-02T00:36:41.637045Z",
          "start_time": "2019-08-02T00:36:41.634825Z"
        },
        "run_control": {
          "frozen": false,
          "read_only": false
        },
        "id": "6me5k4c1OdDY"
      },
      "source": [
        "### Discuss!"
      ]
    },
    {
      "cell_type": "markdown",
      "metadata": {
        "run_control": {
          "frozen": false,
          "read_only": false
        },
        "id": "QIHRn8UlOdDZ"
      },
      "source": [
        "## do the same for the Milky Way. If your functions were create properly you should be able to reuse them seamlessly"
      ]
    },
    {
      "cell_type": "code",
      "metadata": {
        "id": "NVp9cJzv-Dic",
        "colab": {
          "base_uri": "https://localhost:8080/",
          "height": 1000
        },
        "outputId": "f6f8a349-27bc-4fe2-d5b0-253de7b595c0"
      },
      "source": [
        "m = pd.read_csv('https://raw.githubusercontent.com/fedhere/DSPS_FBianco/refs/heads/main/HW4/mw.csv')\n",
        "\n",
        "print(m.head())\n",
        "m = m.drop(0)\n",
        "m[\"err_tot\"] = np.sqrt(pd.to_numeric(m[\"Rotation\"])**2 + pd.to_numeric(m[\"Curve\"])**2)\n",
        "m[\"#MW\"] = pd.to_numeric(m[\"#MW\"])\n",
        "m[\"Grand\"] = pd.to_numeric(m[\"Grand\"])\n",
        "m[\"Rotation\"] = pd.to_numeric(m[\"Rotation\"])\n",
        "m[\"Curve\"] = pd.to_numeric(m[\"Curve\"])\n",
        "\n",
        "def getradii_m(data, N, luminous):\n",
        "  for i in data.index:\n",
        "    if data.loc[i, \"#MW\"] >= N * luminous:\n",
        "      print(data.loc[i, \"#MW\"])\n",
        "      print(data.loc[i, \"Grand\"])\n",
        "      return data.loc[i, \"#MW\"], data.loc[i, \"Curve\"], data.loc[i, \"Grand\"], data.loc[i, \"Rotation\"]\n",
        "      break\n",
        "\n",
        "def plotGal_m(gal, rds):\n",
        "    #1\n",
        "    rot_curve = gal.plot(x = '#MW', y = 'Grand', yerr = 'Rotation', label = 'Rotational Curve')\n",
        "    rot_curve.set_xlabel(\"Radius(kpc)\", fontsize=12)\n",
        "    rot_curve.set_ylabel(\"Velocity(km/s)\", fontsize=12)\n",
        "    rot_curve.set_title(\"Grand Rotation Curve\", fontsize=14)\n",
        "\n",
        "    #2\n",
        "\n",
        "\n",
        "    colors = ['red', 'green', 'blue']\n",
        "\n",
        "    for i in gal.index:\n",
        "          color = colors[i % 3]\n",
        "          rot_curve.errorbar(gal.loc[i, '#MW'], gal.loc[i, 'Grand'], yerr = gal.loc[i, 'err_tot'])\n",
        "\n",
        "\n",
        "    #3\n",
        "    rot_curve.errorbar(gal['#MW'], gal['Grand'], yerr =  gal['Rotation'], label = 'dv', color = 'black')\n",
        "\n",
        "    #4\n",
        "\n",
        "    #I was originally confused by what the rds meant in the function here\n",
        "    #I assume that is it the luminous radius\n",
        "    highlight1 = getradii(gal, 1, rds)\n",
        "    rot_curve.plot(highlight1[0], highlight1[2],'o', color = 'purple')\n",
        "    highlight2 = getradii(gal, 2, rds)\n",
        "    rot_curve.plot(highlight2[0], highlight2[2], 'o',color = 'pink')\n",
        "    highlight3 = getradii(gal, 3, rds)\n",
        "    rot_curve.plot(highlight3[0], highlight3[2], 'o',color = 'yellow')\n",
        "    #These highlighted points are very hard to see, but they're there near the y-axis.\n",
        "\n",
        "    #5\n",
        "    rot_curve.legend(loc='lower right')\n",
        "\n",
        "    #6\n",
        "    largest_err_idx = np.argmax(gal['err_tot'])\n",
        "\n",
        "    pl.text(gal['#MW'].loc[largest_err_idx], gal['Grand'].loc[largest_err_idx] + 200, f'v = {gal['Grand'].loc[largest_err_idx]:.1f} ± {gal['Rotation'].iloc[largest_err_idx]:.1f}, err = {gal['Curve'].iloc[largest_err_idx]:.1f}')\n",
        "    #Also hard to determine, but this should be referring to the Cyan one.\n",
        "\n",
        "    #7\n",
        "    rot_curve.set_xlim(rds, gal['#MW'].max())\n",
        "    rot_curve.set_ylim(gal['Grand'].min() - 50, gal['Grand'].max() + 10)\n",
        "\n",
        "plotGal_m(m, 30);\n",
        "\n",
        "#delete\n",
        "def vratios_m(gal, rds, N, err = 'dv'):\n",
        "  velocity_at = getradii(gal, N, rds)[2]\n",
        "  expected_drop = getradii(gal, 1, rds)[2] / np.sqrt(getradii(gal, N, rds)[0])\n",
        "  calculated_velocity_ratio = getradii(gal, 1, rds)[2] / getradii(gal, N, rds)[2]\n",
        "  expected_ratio_radii = np.sqrt(getradii(gal, 1, rds)[0] / getradii(gal, N, rds)[0])\n",
        "  #if err == 'dv':\n",
        "  unc_1 = getradii(gal, 1, rds)[3]\n",
        "  unc_N = getradii(gal, N, rds)[3]\n",
        "  expected_velo_unc = np.absolute(getradii(gal, 1, rds)[2]/getradii(gal, N, rds)[2]) * np.sqrt((unc_1**2)/(getradii(gal, 1, rds)[2])**2 + (unc_N**2)/(getradii(gal, N, rds)[2])**2)\n",
        "  if err == 'err':\n",
        "    unc_1 = getradii(gal, 1, rds)[1]\n",
        "    unc_N = getradii(gal, N, rds)[1]\n",
        "  expected_rad_unc = np.absolute(getradii(gal, 1, rds)[0]/getradii(gal, N, rds)[0]) * np.sqrt((unc_1**2)/(getradii(gal, 1, rds)[0])**2 + (unc_N**2)/(getradii(gal, N, rds)[0])**2)\n",
        "\n",
        "  sigmaupper_vel = np.absolute(getradii(gal, 1, rds)[2]/getradii(gal, N, rds)[2]) + 2 * np.sqrt((unc_1**2)/(getradii(gal, 1, rds)[2])**2 + (unc_N**2)/(getradii(gal, N, rds)[2])**2)\n",
        "  sigmalower_vel = np.absolute(getradii(gal, 1, rds)[2]/getradii(gal, N, rds)[2]) - 2 * np.sqrt((unc_1**2)/(getradii(gal, 1, rds)[2])**2 + (unc_N**2)/(getradii(gal, N, rds)[2])**2)\n",
        "\n",
        "  sigmaupper_rad = np.absolute(getradii(gal, 1, rds)[0]/getradii(gal, N, rds)[0]) + 2 * np.sqrt((unc_1**2)/(getradii(gal, 1, rds)[0])**2 + (unc_N**2)/(getradii(gal, N, rds)[0])**2)\n",
        "  sigmalower_rad =  np.absolute(getradii(gal, 1, rds)[0]/getradii(gal, N, rds)[0]) - 2* np.sqrt((unc_1**2)/(getradii(gal, 1, rds)[0])**2 + (unc_N**2)/(getradii(gal, N, rds)[0])**2)\n",
        "\n",
        "  test = False\n",
        "  if sigmalower_rad <= expected_rad_unc <= sigmaupper_rad:\n",
        "    test = True\n",
        "  if sigmalower_vel <= expected_velo_unc <= sigmaupper_vel:\n",
        "    test = True\n",
        "\n",
        "\n",
        "  print(\"The expected radius ratio is: \" + str(expected_ratio_radii))\n",
        "  print(\"The calculated velocity ratio is: \" + str(calculated_velocity_ratio) + \" +/- \" + str(expected_velo_unc))\n",
        "  print(\"The 2-sigma upper limit is: \" + str(sigmaupper_vel) + \" +/- \" + str(expected_velo_unc))\n",
        "  print(\"The 2-sigma lower limit is: \" + str(sigmalower_vel) + \" +/- \" + str(expected_velo_unc))\n",
        "  print(\"The expected ratio is within the 2-sigma of the calculated ratio: \" + str(test))"
      ],
      "execution_count": 210,
      "outputs": [
        {
          "output_type": "stream",
          "name": "stdout",
          "text": [
            "      #MW    Grand Rotation     Curve\n",
            "0  R(kpc)  V(km/s)  St.dev.  St.error\n",
            "1   0.010  119.061   41.832    32.714\n",
            "2   0.012  115.268   35.199    17.100\n",
            "3   0.014  117.392   35.152    14.429\n",
            "4   0.017  118.475   35.252    14.870\n"
          ]
        },
        {
          "output_type": "error",
          "ename": "KeyError",
          "evalue": "'#M31'",
          "traceback": [
            "\u001b[0;31m---------------------------------------------------------------------------\u001b[0m",
            "\u001b[0;31mKeyError\u001b[0m                                  Traceback (most recent call last)",
            "\u001b[0;32m/usr/local/lib/python3.12/dist-packages/pandas/core/indexes/base.py\u001b[0m in \u001b[0;36mget_loc\u001b[0;34m(self, key)\u001b[0m\n\u001b[1;32m   3804\u001b[0m         \u001b[0;32mtry\u001b[0m\u001b[0;34m:\u001b[0m\u001b[0;34m\u001b[0m\u001b[0;34m\u001b[0m\u001b[0m\n\u001b[0;32m-> 3805\u001b[0;31m             \u001b[0;32mreturn\u001b[0m \u001b[0mself\u001b[0m\u001b[0;34m.\u001b[0m\u001b[0m_engine\u001b[0m\u001b[0;34m.\u001b[0m\u001b[0mget_loc\u001b[0m\u001b[0;34m(\u001b[0m\u001b[0mcasted_key\u001b[0m\u001b[0;34m)\u001b[0m\u001b[0;34m\u001b[0m\u001b[0;34m\u001b[0m\u001b[0m\n\u001b[0m\u001b[1;32m   3806\u001b[0m         \u001b[0;32mexcept\u001b[0m \u001b[0mKeyError\u001b[0m \u001b[0;32mas\u001b[0m \u001b[0merr\u001b[0m\u001b[0;34m:\u001b[0m\u001b[0;34m\u001b[0m\u001b[0;34m\u001b[0m\u001b[0m\n",
            "\u001b[0;32mindex.pyx\u001b[0m in \u001b[0;36mpandas._libs.index.IndexEngine.get_loc\u001b[0;34m()\u001b[0m\n",
            "\u001b[0;32mindex.pyx\u001b[0m in \u001b[0;36mpandas._libs.index.IndexEngine.get_loc\u001b[0;34m()\u001b[0m\n",
            "\u001b[0;32mpandas/_libs/hashtable_class_helper.pxi\u001b[0m in \u001b[0;36mpandas._libs.hashtable.PyObjectHashTable.get_item\u001b[0;34m()\u001b[0m\n",
            "\u001b[0;32mpandas/_libs/hashtable_class_helper.pxi\u001b[0m in \u001b[0;36mpandas._libs.hashtable.PyObjectHashTable.get_item\u001b[0;34m()\u001b[0m\n",
            "\u001b[0;31mKeyError\u001b[0m: '#M31'",
            "\nThe above exception was the direct cause of the following exception:\n",
            "\u001b[0;31mKeyError\u001b[0m                                  Traceback (most recent call last)",
            "\u001b[0;32m/tmp/ipython-input-1583451829.py\u001b[0m in \u001b[0;36m<cell line: 0>\u001b[0;34m()\u001b[0m\n\u001b[1;32m     62\u001b[0m     \u001b[0mrot_curve\u001b[0m\u001b[0;34m.\u001b[0m\u001b[0mset_ylim\u001b[0m\u001b[0;34m(\u001b[0m\u001b[0mgal\u001b[0m\u001b[0;34m[\u001b[0m\u001b[0;34m'Grand'\u001b[0m\u001b[0;34m]\u001b[0m\u001b[0;34m.\u001b[0m\u001b[0mmin\u001b[0m\u001b[0;34m(\u001b[0m\u001b[0;34m)\u001b[0m \u001b[0;34m-\u001b[0m \u001b[0;36m50\u001b[0m\u001b[0;34m,\u001b[0m \u001b[0mgal\u001b[0m\u001b[0;34m[\u001b[0m\u001b[0;34m'Grand'\u001b[0m\u001b[0;34m]\u001b[0m\u001b[0;34m.\u001b[0m\u001b[0mmax\u001b[0m\u001b[0;34m(\u001b[0m\u001b[0;34m)\u001b[0m \u001b[0;34m+\u001b[0m \u001b[0;36m10\u001b[0m\u001b[0;34m)\u001b[0m\u001b[0;34m\u001b[0m\u001b[0;34m\u001b[0m\u001b[0m\n\u001b[1;32m     63\u001b[0m \u001b[0;34m\u001b[0m\u001b[0m\n\u001b[0;32m---> 64\u001b[0;31m \u001b[0mplotGal_m\u001b[0m\u001b[0;34m(\u001b[0m\u001b[0mm\u001b[0m\u001b[0;34m,\u001b[0m \u001b[0;36m30\u001b[0m\u001b[0;34m)\u001b[0m\u001b[0;34m;\u001b[0m\u001b[0;34m\u001b[0m\u001b[0;34m\u001b[0m\u001b[0m\n\u001b[0m\u001b[1;32m     65\u001b[0m \u001b[0;34m\u001b[0m\u001b[0m\n\u001b[1;32m     66\u001b[0m \u001b[0;31m#delete\u001b[0m\u001b[0;34m\u001b[0m\u001b[0;34m\u001b[0m\u001b[0m\n",
            "\u001b[0;32m/tmp/ipython-input-1583451829.py\u001b[0m in \u001b[0;36mplotGal_m\u001b[0;34m(gal, rds)\u001b[0m\n\u001b[1;32m     41\u001b[0m     \u001b[0;31m#I was originally confused by what the rds meant in the function here\u001b[0m\u001b[0;34m\u001b[0m\u001b[0;34m\u001b[0m\u001b[0m\n\u001b[1;32m     42\u001b[0m     \u001b[0;31m#I assume that is it the luminous radius\u001b[0m\u001b[0;34m\u001b[0m\u001b[0;34m\u001b[0m\u001b[0m\n\u001b[0;32m---> 43\u001b[0;31m     \u001b[0mhighlight1\u001b[0m \u001b[0;34m=\u001b[0m \u001b[0mgetradii\u001b[0m\u001b[0;34m(\u001b[0m\u001b[0mgal\u001b[0m\u001b[0;34m,\u001b[0m \u001b[0;36m1\u001b[0m\u001b[0;34m,\u001b[0m \u001b[0mrds\u001b[0m\u001b[0;34m)\u001b[0m\u001b[0;34m\u001b[0m\u001b[0;34m\u001b[0m\u001b[0m\n\u001b[0m\u001b[1;32m     44\u001b[0m     \u001b[0mrot_curve\u001b[0m\u001b[0;34m.\u001b[0m\u001b[0mplot\u001b[0m\u001b[0;34m(\u001b[0m\u001b[0mhighlight1\u001b[0m\u001b[0;34m[\u001b[0m\u001b[0;36m0\u001b[0m\u001b[0;34m]\u001b[0m\u001b[0;34m,\u001b[0m \u001b[0mhighlight1\u001b[0m\u001b[0;34m[\u001b[0m\u001b[0;36m2\u001b[0m\u001b[0;34m]\u001b[0m\u001b[0;34m,\u001b[0m\u001b[0;34m'o'\u001b[0m\u001b[0;34m,\u001b[0m \u001b[0mcolor\u001b[0m \u001b[0;34m=\u001b[0m \u001b[0;34m'purple'\u001b[0m\u001b[0;34m)\u001b[0m\u001b[0;34m\u001b[0m\u001b[0;34m\u001b[0m\u001b[0m\n\u001b[1;32m     45\u001b[0m     \u001b[0mhighlight2\u001b[0m \u001b[0;34m=\u001b[0m \u001b[0mgetradii\u001b[0m\u001b[0;34m(\u001b[0m\u001b[0mgal\u001b[0m\u001b[0;34m,\u001b[0m \u001b[0;36m2\u001b[0m\u001b[0;34m,\u001b[0m \u001b[0mrds\u001b[0m\u001b[0;34m)\u001b[0m\u001b[0;34m\u001b[0m\u001b[0;34m\u001b[0m\u001b[0m\n",
            "\u001b[0;32m/tmp/ipython-input-2280282131.py\u001b[0m in \u001b[0;36mgetradii\u001b[0;34m(data, N, luminous)\u001b[0m\n\u001b[1;32m      2\u001b[0m \u001b[0;32mdef\u001b[0m \u001b[0mgetradii\u001b[0m\u001b[0;34m(\u001b[0m\u001b[0mdata\u001b[0m\u001b[0;34m,\u001b[0m \u001b[0mN\u001b[0m\u001b[0;34m,\u001b[0m \u001b[0mluminous\u001b[0m\u001b[0;34m)\u001b[0m\u001b[0;34m:\u001b[0m\u001b[0;34m\u001b[0m\u001b[0;34m\u001b[0m\u001b[0m\n\u001b[1;32m      3\u001b[0m   \u001b[0;32mfor\u001b[0m \u001b[0mi\u001b[0m \u001b[0;32min\u001b[0m \u001b[0mdata\u001b[0m\u001b[0;34m.\u001b[0m\u001b[0mindex\u001b[0m\u001b[0;34m:\u001b[0m\u001b[0;34m\u001b[0m\u001b[0;34m\u001b[0m\u001b[0m\n\u001b[0;32m----> 4\u001b[0;31m     \u001b[0;32mif\u001b[0m \u001b[0mdata\u001b[0m\u001b[0;34m.\u001b[0m\u001b[0mloc\u001b[0m\u001b[0;34m[\u001b[0m\u001b[0mi\u001b[0m\u001b[0;34m,\u001b[0m \u001b[0;34m\"#M31\"\u001b[0m\u001b[0;34m]\u001b[0m \u001b[0;34m>=\u001b[0m \u001b[0mN\u001b[0m \u001b[0;34m*\u001b[0m \u001b[0mluminous\u001b[0m\u001b[0;34m:\u001b[0m\u001b[0;34m\u001b[0m\u001b[0;34m\u001b[0m\u001b[0m\n\u001b[0m\u001b[1;32m      5\u001b[0m       \u001b[0mprint\u001b[0m\u001b[0;34m(\u001b[0m\u001b[0mdata\u001b[0m\u001b[0;34m.\u001b[0m\u001b[0mloc\u001b[0m\u001b[0;34m[\u001b[0m\u001b[0mi\u001b[0m\u001b[0;34m,\u001b[0m \u001b[0;34m\"#M31\"\u001b[0m\u001b[0;34m]\u001b[0m\u001b[0;34m)\u001b[0m\u001b[0;34m\u001b[0m\u001b[0;34m\u001b[0m\u001b[0m\n\u001b[1;32m      6\u001b[0m       \u001b[0mprint\u001b[0m\u001b[0;34m(\u001b[0m\u001b[0mdata\u001b[0m\u001b[0;34m.\u001b[0m\u001b[0mloc\u001b[0m\u001b[0;34m[\u001b[0m\u001b[0mi\u001b[0m\u001b[0;34m,\u001b[0m \u001b[0;34m\"Grand\"\u001b[0m\u001b[0;34m]\u001b[0m\u001b[0;34m)\u001b[0m\u001b[0;34m\u001b[0m\u001b[0;34m\u001b[0m\u001b[0m\n",
            "\u001b[0;32m/usr/local/lib/python3.12/dist-packages/pandas/core/indexing.py\u001b[0m in \u001b[0;36m__getitem__\u001b[0;34m(self, key)\u001b[0m\n\u001b[1;32m   1181\u001b[0m             \u001b[0mkey\u001b[0m \u001b[0;34m=\u001b[0m \u001b[0mtuple\u001b[0m\u001b[0;34m(\u001b[0m\u001b[0mcom\u001b[0m\u001b[0;34m.\u001b[0m\u001b[0mapply_if_callable\u001b[0m\u001b[0;34m(\u001b[0m\u001b[0mx\u001b[0m\u001b[0;34m,\u001b[0m \u001b[0mself\u001b[0m\u001b[0;34m.\u001b[0m\u001b[0mobj\u001b[0m\u001b[0;34m)\u001b[0m \u001b[0;32mfor\u001b[0m \u001b[0mx\u001b[0m \u001b[0;32min\u001b[0m \u001b[0mkey\u001b[0m\u001b[0;34m)\u001b[0m\u001b[0;34m\u001b[0m\u001b[0;34m\u001b[0m\u001b[0m\n\u001b[1;32m   1182\u001b[0m             \u001b[0;32mif\u001b[0m \u001b[0mself\u001b[0m\u001b[0;34m.\u001b[0m\u001b[0m_is_scalar_access\u001b[0m\u001b[0;34m(\u001b[0m\u001b[0mkey\u001b[0m\u001b[0;34m)\u001b[0m\u001b[0;34m:\u001b[0m\u001b[0;34m\u001b[0m\u001b[0;34m\u001b[0m\u001b[0m\n\u001b[0;32m-> 1183\u001b[0;31m                 \u001b[0;32mreturn\u001b[0m \u001b[0mself\u001b[0m\u001b[0;34m.\u001b[0m\u001b[0mobj\u001b[0m\u001b[0;34m.\u001b[0m\u001b[0m_get_value\u001b[0m\u001b[0;34m(\u001b[0m\u001b[0;34m*\u001b[0m\u001b[0mkey\u001b[0m\u001b[0;34m,\u001b[0m \u001b[0mtakeable\u001b[0m\u001b[0;34m=\u001b[0m\u001b[0mself\u001b[0m\u001b[0;34m.\u001b[0m\u001b[0m_takeable\u001b[0m\u001b[0;34m)\u001b[0m\u001b[0;34m\u001b[0m\u001b[0;34m\u001b[0m\u001b[0m\n\u001b[0m\u001b[1;32m   1184\u001b[0m             \u001b[0;32mreturn\u001b[0m \u001b[0mself\u001b[0m\u001b[0;34m.\u001b[0m\u001b[0m_getitem_tuple\u001b[0m\u001b[0;34m(\u001b[0m\u001b[0mkey\u001b[0m\u001b[0;34m)\u001b[0m\u001b[0;34m\u001b[0m\u001b[0;34m\u001b[0m\u001b[0m\n\u001b[1;32m   1185\u001b[0m         \u001b[0;32melse\u001b[0m\u001b[0;34m:\u001b[0m\u001b[0;34m\u001b[0m\u001b[0;34m\u001b[0m\u001b[0m\n",
            "\u001b[0;32m/usr/local/lib/python3.12/dist-packages/pandas/core/frame.py\u001b[0m in \u001b[0;36m_get_value\u001b[0;34m(self, index, col, takeable)\u001b[0m\n\u001b[1;32m   4212\u001b[0m             \u001b[0;32mreturn\u001b[0m \u001b[0mseries\u001b[0m\u001b[0;34m.\u001b[0m\u001b[0m_values\u001b[0m\u001b[0;34m[\u001b[0m\u001b[0mindex\u001b[0m\u001b[0;34m]\u001b[0m\u001b[0;34m\u001b[0m\u001b[0;34m\u001b[0m\u001b[0m\n\u001b[1;32m   4213\u001b[0m \u001b[0;34m\u001b[0m\u001b[0m\n\u001b[0;32m-> 4214\u001b[0;31m         \u001b[0mseries\u001b[0m \u001b[0;34m=\u001b[0m \u001b[0mself\u001b[0m\u001b[0;34m.\u001b[0m\u001b[0m_get_item_cache\u001b[0m\u001b[0;34m(\u001b[0m\u001b[0mcol\u001b[0m\u001b[0;34m)\u001b[0m\u001b[0;34m\u001b[0m\u001b[0;34m\u001b[0m\u001b[0m\n\u001b[0m\u001b[1;32m   4215\u001b[0m         \u001b[0mengine\u001b[0m \u001b[0;34m=\u001b[0m \u001b[0mself\u001b[0m\u001b[0;34m.\u001b[0m\u001b[0mindex\u001b[0m\u001b[0;34m.\u001b[0m\u001b[0m_engine\u001b[0m\u001b[0;34m\u001b[0m\u001b[0;34m\u001b[0m\u001b[0m\n\u001b[1;32m   4216\u001b[0m \u001b[0;34m\u001b[0m\u001b[0m\n",
            "\u001b[0;32m/usr/local/lib/python3.12/dist-packages/pandas/core/frame.py\u001b[0m in \u001b[0;36m_get_item_cache\u001b[0;34m(self, item)\u001b[0m\n\u001b[1;32m   4636\u001b[0m             \u001b[0;31m#  pending resolution of GH#33047\u001b[0m\u001b[0;34m\u001b[0m\u001b[0;34m\u001b[0m\u001b[0m\n\u001b[1;32m   4637\u001b[0m \u001b[0;34m\u001b[0m\u001b[0m\n\u001b[0;32m-> 4638\u001b[0;31m             \u001b[0mloc\u001b[0m \u001b[0;34m=\u001b[0m \u001b[0mself\u001b[0m\u001b[0;34m.\u001b[0m\u001b[0mcolumns\u001b[0m\u001b[0;34m.\u001b[0m\u001b[0mget_loc\u001b[0m\u001b[0;34m(\u001b[0m\u001b[0mitem\u001b[0m\u001b[0;34m)\u001b[0m\u001b[0;34m\u001b[0m\u001b[0;34m\u001b[0m\u001b[0m\n\u001b[0m\u001b[1;32m   4639\u001b[0m             \u001b[0mres\u001b[0m \u001b[0;34m=\u001b[0m \u001b[0mself\u001b[0m\u001b[0;34m.\u001b[0m\u001b[0m_ixs\u001b[0m\u001b[0;34m(\u001b[0m\u001b[0mloc\u001b[0m\u001b[0;34m,\u001b[0m \u001b[0maxis\u001b[0m\u001b[0;34m=\u001b[0m\u001b[0;36m1\u001b[0m\u001b[0;34m)\u001b[0m\u001b[0;34m\u001b[0m\u001b[0;34m\u001b[0m\u001b[0m\n\u001b[1;32m   4640\u001b[0m \u001b[0;34m\u001b[0m\u001b[0m\n",
            "\u001b[0;32m/usr/local/lib/python3.12/dist-packages/pandas/core/indexes/base.py\u001b[0m in \u001b[0;36mget_loc\u001b[0;34m(self, key)\u001b[0m\n\u001b[1;32m   3810\u001b[0m             ):\n\u001b[1;32m   3811\u001b[0m                 \u001b[0;32mraise\u001b[0m \u001b[0mInvalidIndexError\u001b[0m\u001b[0;34m(\u001b[0m\u001b[0mkey\u001b[0m\u001b[0;34m)\u001b[0m\u001b[0;34m\u001b[0m\u001b[0;34m\u001b[0m\u001b[0m\n\u001b[0;32m-> 3812\u001b[0;31m             \u001b[0;32mraise\u001b[0m \u001b[0mKeyError\u001b[0m\u001b[0;34m(\u001b[0m\u001b[0mkey\u001b[0m\u001b[0;34m)\u001b[0m \u001b[0;32mfrom\u001b[0m \u001b[0merr\u001b[0m\u001b[0;34m\u001b[0m\u001b[0;34m\u001b[0m\u001b[0m\n\u001b[0m\u001b[1;32m   3813\u001b[0m         \u001b[0;32mexcept\u001b[0m \u001b[0mTypeError\u001b[0m\u001b[0;34m:\u001b[0m\u001b[0;34m\u001b[0m\u001b[0;34m\u001b[0m\u001b[0m\n\u001b[1;32m   3814\u001b[0m             \u001b[0;31m# If we have a listlike key, _check_indexing_error will raise\u001b[0m\u001b[0;34m\u001b[0m\u001b[0;34m\u001b[0m\u001b[0m\n",
            "\u001b[0;31mKeyError\u001b[0m: '#M31'"
          ]
        },
        {
          "output_type": "display_data",
          "data": {
            "text/plain": [
              "<Figure size 640x480 with 1 Axes>"
            ],
            "image/png": "[encoded data removed]"
          },
          "metadata": {}
        }
      ]
    },
    {
      "cell_type": "markdown",
      "metadata": {
        "run_control": {
          "frozen": false,
          "read_only": false
        },
        "id": "oxQofaCKOdDg"
      },
      "source": [
        "https://en.wikipedia.org/wiki/Milky_Way\n",
        "    "
      ]
    }
  ]
}